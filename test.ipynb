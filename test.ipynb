{
 "cells": [
  {
   "cell_type": "code",
   "execution_count": null,
   "id": "7907fbea",
   "metadata": {},
   "outputs": [],
   "source": [
    "import pandas as pd\n",
    "import polars as pl\n",
    "# This file is part of the Open Data Cube project\n",
    "from data_processing.data_processing_strategies import read_hdf\n",
    "import glob"
   ]
  },
  {
   "cell_type": "code",
   "execution_count": null,
   "id": "6fd8d590",
   "metadata": {},
   "outputs": [],
   "source": []
  },
  {
   "cell_type": "code",
   "execution_count": null,
   "id": "61999eac",
   "metadata": {},
   "outputs": [],
   "source": [
    "from typing import List, Dict, Any, TypedDict\n",
    "from enum import Enum\n",
    "\n",
    "class ProjectType(str, Enum):\n",
    "    D2 = \"2d\"\n",
    "    D3 = \"3d\"\n",
    "\n",
    "\n",
    "class DataProcessingStrategy(TypedDict):\n",
    "    name: str\n",
    "    parameters: Dict[str, Any]\n",
    "\n",
    "\n",
    "\n",
    "class DataProcessingOutput(TypedDict):\n",
    "    strategy: DataProcessingStrategy\n",
    "    result: pl.DataFrame | None\n",
    "    completed: bool\n",
    "\n",
    "\n",
    "class VideoData2D(TypedDict):\n",
    "    video_path: str | None\n",
    "    dlc_path: str\n",
    "    original_dlc_data: pl.DataFrame\n",
    "    processed_dlc_data: list[DataProcessingOutput]\n",
    "\n",
    "\n",
    "class VideoData3D(TypedDict):\n",
    "    video_paths: List[str]\n",
    "    dlc_data: pl.DataFrame\n",
    "\n",
    "\n",
    "class ProjectData(TypedDict):\n",
    "    project_path: str\n",
    "    project_name: str\n",
    "    video_data: List[VideoData2D] | List[VideoData3D]\n",
    "    project_type: ProjectType\n",
    "    data_processing_strategies: List[DataProcessingStrategy]\n"
   ]
  },
  {
   "cell_type": "code",
   "execution_count": 4,
   "id": "9ada5caa",
   "metadata": {},
   "outputs": [],
   "source": [
    "from pathlib import Path\n",
    "def convert_str_to_paths(video_paths: List[str]) -> List[Path]:\n",
    "    \"\"\"\n",
    "    Convert a list of string paths to Path objects.\n",
    "    \"\"\"\n",
    "    return [Path(path) for path in video_paths]"
   ]
  },
  {
   "cell_type": "code",
   "execution_count": 5,
   "id": "04481bf0",
   "metadata": {},
   "outputs": [],
   "source": [
    "import os\n",
    "from pathlib import Path\n",
    "\n",
    "# Paths\n",
    "project_path = \"/home/thomas/Documents/DeepLabCutClusteringV3/data/preprocessed/hugo_project\"\n",
    "dlc_h5_paths = convert_str_to_paths(glob.glob(f\"{project_path}/dlc_data/*.h5\"))\n",
    "video_paths = convert_str_to_paths(glob.glob(f\"{project_path}/videos/*\"))\n",
    "\n",
    "project_data = ProjectData(\n",
    "    project_path=project_path,\n",
    "    project_name=\"hugo_project\",\n",
    "    video_data=[],\n",
    "    project_type=ProjectType.D2,\n",
    "    data_processing_strategies=[]\n",
    ")\n",
    "\n",
    "\n",
    "video_dir = video_paths[0].parent\n",
    "h5_to_video_map = {}\n",
    "for dlc_h5_path in dlc_h5_paths:\n",
    "    video_map_path = video_dir / (dlc_h5_path.stem + \".avi\")\n",
    "    h5_to_video_map[dlc_h5_path] = video_map_path\n",
    "\n"
   ]
  },
  {
   "cell_type": "code",
   "execution_count": 6,
   "id": "0383bea9",
   "metadata": {},
   "outputs": [],
   "source": [
    "for delc_path in h5_to_video_map.keys():\n",
    "    video_path = h5_to_video_map[delc_path]\n",
    "    if not video_path.exists():\n",
    "        print(f\"Video file {video_path} does not exist for DLC data {delc_path}.\")\n",
    "        video_path = None\n",
    "\n",
    "    original_dlc_data = read_hdf(str(delc_path))\n",
    "    \n",
    "    video_data_2d = VideoData2D(\n",
    "        video_path=str(video_path),\n",
    "        dlc_path=str(dlc_h5_path),\n",
    "        original_dlc_data=original_dlc_data,\n",
    "        processed_dlc_data=[]\n",
    "    )\n",
    "    \n",
    "    project_data['video_data'].append(video_data_2d)"
   ]
  },
  {
   "cell_type": "code",
   "execution_count": null,
   "id": "fde9470f",
   "metadata": {},
   "outputs": [],
   "source": [
    "def KeepOriginalStrategy(df, include_likelyhood=False):\n",
    "    \"\"\"Clones the dataframe, filters the columns to only include those that end with _x, _y, _z, and optionally _likelihood.\"\"\"\n",
    "    if include_likelyhood:\n",
    "        regex = \"^.*(_x|_y|_z|_likelihood)$\"\n",
    "    elif include_likelyhood == False:\n",
    "        regex = \"^.*(_x|_y|_z)$\"\n",
    "\n",
    "\n",
    "    filtered = df.select(pl.col(regex))\n",
    "\n",
    "    return filtered\n"
   ]
  },
  {
   "cell_type": "code",
   "execution_count": 117,
   "id": "880cf02d",
   "metadata": {},
   "outputs": [],
   "source": [
    "\n",
    "def CentroidDiffStrategy(df: pl.DataFrame, include_centroid: bool = False) -> pl.DataFrame:\n",
    "    \"\"\"Finds the centroid difference for each _x, _y, (_z) column.\"\"\"\n",
    "\n",
    "    df = df.select([col for col in df.columns if not col.endswith(\"_likelihood\")])\n",
    "    # Add centroid columns\n",
    "    df = df.with_columns(\n",
    "        centroid_x=pl.concat_list(pl.col(\"^.*_x$\")).list.mean(),\n",
    "        centroid_y=pl.concat_list(pl.col(\"^.*_y$\")).list.mean(),\n",
    "    )\n",
    "\n",
    "    if df.select(pl.col(\"^.*_z$\")).width > 0:\n",
    "        df = df.with_columns(\n",
    "            centroid_z=pl.concat_list(pl.col(\"^.*_z$\")).list.mean(),\n",
    "        )\n",
    "\n",
    "    # Subtract centroid from matching columns\n",
    "    for axis in ['x', 'y', 'z']:\n",
    "\n",
    "        axis_cols = df.select(pl.col(f\"^.*_{axis}$\")).columns\n",
    "\n",
    "        if not axis_cols:\n",
    "            continue\n",
    "\n",
    "        df = df.with_columns([\n",
    "            (pl.col(col) - pl.col(f\"centroid_{axis}\")).alias(col) for col in axis_cols\n",
    "        ])\n",
    "\n",
    "    # Optionally drop centroid columns\n",
    "    if not include_centroid:\n",
    "        df = df.drop([\"centroid_x\", \"centroid_y\", \"centroid_z\"], strict=False)\n",
    "\n",
    "    return df\n"
   ]
  },
  {
   "cell_type": "code",
   "execution_count": 118,
   "id": "3d5aa5af",
   "metadata": {},
   "outputs": [],
   "source": [
    "import polars as pl\n",
    "\n",
    "def VelocityStrategy(df: pl.DataFrame) -> pl.DataFrame:\n",
    "    \"\"\"Returns a DataFrame containing only the velocity (Euclidean) for each body part.\"\"\"\n",
    "\n",
    "    # Identify all body part prefixes (excluding _likelihood)\n",
    "    body_parts = set()\n",
    "    for col in df.columns:\n",
    "        if col.endswith(\"_x\") and not col.endswith(\"_likelihood\"):\n",
    "            body_parts.add(col[:-2])\n",
    "\n",
    "    velocity_exprs = []\n",
    "\n",
    "    for part in body_parts:\n",
    "        x_col = f\"{part}_x\"\n",
    "        y_col = f\"{part}_y\"\n",
    "        has_z = f\"{part}_z\" in df.columns\n",
    "\n",
    "        dx = pl.col(x_col).diff()\n",
    "        dy = pl.col(y_col).diff()\n",
    "\n",
    "        if has_z:\n",
    "            dz = pl.col(f\"{part}_z\").diff()\n",
    "            velocity = (dx**2 + dy**2 + dz**2).sqrt().alias(f\"{part}_velocity\")\n",
    "        else:\n",
    "            velocity = (dx**2 + dy**2).sqrt().alias(f\"{part}_velocity\")\n",
    "\n",
    "        velocity_exprs.append(velocity)\n",
    "\n",
    "    # Return only velocity columns\n",
    "    df = df.select(velocity_exprs)\n",
    "    df = df.fill_null(strategy=\"backward\")\n",
    "    df = df.fill_null(strategy=\"forward\")\n",
    "\n",
    "    return df\n"
   ]
  },
  {
   "cell_type": "code",
   "execution_count": null,
   "id": "a5a153ca",
   "metadata": {},
   "outputs": [],
   "source": []
  },
  {
   "cell_type": "code",
   "execution_count": 119,
   "id": "4b9c38ec",
   "metadata": {},
   "outputs": [],
   "source": [
    "project_data[\"data_processing_strategies\"] = [VelocityStrategy, CentroidDiffStrategy]\n"
   ]
  },
  {
   "cell_type": "code",
   "execution_count": 125,
   "id": "77a90cdb",
   "metadata": {},
   "outputs": [],
   "source": [
    "for video in project_data[\"video_data\"]:\n",
    "    dfs = []\n",
    "    for strategy in project_data[\"data_processing_strategies\"]:\n",
    "        dfs.append(strategy(video[\"original_dlc_data\"]))\n",
    "\n",
    "    df_combined = pl.concat(dfs, how=\"horizontal\")"
   ]
  },
  {
   "cell_type": "code",
   "execution_count": 126,
   "id": "391d491c",
   "metadata": {},
   "outputs": [
    {
     "data": {
      "text/html": [
       "<div><style>\n",
       ".dataframe > thead > tr,\n",
       ".dataframe > tbody > tr {\n",
       "  text-align: right;\n",
       "  white-space: pre-wrap;\n",
       "}\n",
       "</style>\n",
       "<small>shape: (18_019, 117)</small><table border=\"1\" class=\"dataframe\"><thead><tr><th>nose_velocity</th><th>neck_end_velocity</th><th>throat_end_velocity</th><th>back_left_knee_velocity</th><th>front_left_paw_velocity</th><th>front_right_paw_velocity</th><th>lower_jaw_velocity</th><th>body_middle_left_velocity</th><th>left_earbase_velocity</th><th>upper_jaw_velocity</th><th>back_middle_velocity</th><th>neck_base_velocity</th><th>mouth_end_left_velocity</th><th>right_antler_base_velocity</th><th>right_eye_velocity</th><th>front_left_knee_velocity</th><th>left_antler_base_velocity</th><th>tail_end_velocity</th><th>right_earend_velocity</th><th>back_end_velocity</th><th>belly_bottom_velocity</th><th>front_right_knee_velocity</th><th>back_right_knee_velocity</th><th>tail_base_velocity</th><th>right_antler_end_velocity</th><th>back_left_paw_velocity</th><th>right_earbase_velocity</th><th>back_base_velocity</th><th>mouth_end_right_velocity</th><th>back_right_thai_velocity</th><th>back_right_paw_velocity</th><th>body_middle_right_velocity</th><th>left_eye_velocity</th><th>front_left_thai_velocity</th><th>back_left_thai_velocity</th><th>front_right_thai_velocity</th><th>left_antler_end_velocity</th><th>&hellip;</th><th>back_end_y</th><th>back_middle_x</th><th>back_middle_y</th><th>tail_base_x</th><th>tail_base_y</th><th>tail_end_x</th><th>tail_end_y</th><th>front_left_thai_x</th><th>front_left_thai_y</th><th>front_left_knee_x</th><th>front_left_knee_y</th><th>front_left_paw_x</th><th>front_left_paw_y</th><th>front_right_thai_x</th><th>front_right_thai_y</th><th>front_right_knee_x</th><th>front_right_knee_y</th><th>front_right_paw_x</th><th>front_right_paw_y</th><th>back_left_paw_x</th><th>back_left_paw_y</th><th>back_left_thai_x</th><th>back_left_thai_y</th><th>back_right_thai_x</th><th>back_right_thai_y</th><th>back_left_knee_x</th><th>back_left_knee_y</th><th>back_right_knee_x</th><th>back_right_knee_y</th><th>back_right_paw_x</th><th>back_right_paw_y</th><th>belly_bottom_x</th><th>belly_bottom_y</th><th>body_middle_right_x</th><th>body_middle_right_y</th><th>body_middle_left_x</th><th>body_middle_left_y</th></tr><tr><td>f32</td><td>f32</td><td>f32</td><td>f32</td><td>f32</td><td>f32</td><td>f32</td><td>f32</td><td>f32</td><td>f32</td><td>f32</td><td>f32</td><td>f32</td><td>f32</td><td>f32</td><td>f32</td><td>f32</td><td>f32</td><td>f32</td><td>f32</td><td>f32</td><td>f32</td><td>f32</td><td>f32</td><td>f32</td><td>f32</td><td>f32</td><td>f32</td><td>f32</td><td>f32</td><td>f32</td><td>f32</td><td>f32</td><td>f32</td><td>f32</td><td>f32</td><td>f32</td><td>&hellip;</td><td>f32</td><td>f32</td><td>f32</td><td>f32</td><td>f32</td><td>f32</td><td>f32</td><td>f32</td><td>f32</td><td>f32</td><td>f32</td><td>f32</td><td>f32</td><td>f32</td><td>f32</td><td>f32</td><td>f32</td><td>f32</td><td>f32</td><td>f32</td><td>f32</td><td>f32</td><td>f32</td><td>f32</td><td>f32</td><td>f32</td><td>f32</td><td>f32</td><td>f32</td><td>f32</td><td>f32</td><td>f32</td><td>f32</td><td>f32</td><td>f32</td><td>f32</td><td>f32</td></tr></thead><tbody><tr><td>2.664108</td><td>28.227034</td><td>22.373381</td><td>2.139955</td><td>9.474257</td><td>3.006879</td><td>11.801864</td><td>14.553572</td><td>28.498438</td><td>12.273447</td><td>11.504195</td><td>11.618459</td><td>12.179778</td><td>11.711031</td><td>12.039073</td><td>23.364204</td><td>11.711031</td><td>19.950373</td><td>11.523703</td><td>11.030224</td><td>28.132244</td><td>2.734654</td><td>11.111619</td><td>11.030224</td><td>19.950373</td><td>2.244853</td><td>11.711031</td><td>28.227034</td><td>6.85158</td><td>11.614697</td><td>11.319461</td><td>14.553572</td><td>11.945323</td><td>9.411612</td><td>2.109274</td><td>12.183305</td><td>19.950373</td><td>&hellip;</td><td>196.153839</td><td>31.384613</td><td>62.278839</td><td>136.572113</td><td>196.153839</td><td>251.322113</td><td>186.591339</td><td>-25.990387</td><td>-62.033661</td><td>-83.365387</td><td>-23.783661</td><td>-121.615387</td><td>-42.908661</td><td>-112.052887</td><td>-90.721161</td><td>-121.615387</td><td>-71.596161</td><td>-178.990387</td><td>-90.721161</td><td>174.822113</td><td>387.403839</td><td>107.884613</td><td>243.966339</td><td>21.822113</td><td>263.091339</td><td>136.572113</td><td>301.341339</td><td>60.072113</td><td>282.216339</td><td>88.759613</td><td>330.028839</td><td>-83.365387</td><td>119.653839</td><td>-16.427887</td><td>90.966339</td><td>-16.427887</td><td>90.966339</td></tr><tr><td>2.664108</td><td>28.227034</td><td>22.373381</td><td>2.139955</td><td>9.474257</td><td>3.006879</td><td>11.801864</td><td>14.553572</td><td>28.498438</td><td>12.273447</td><td>11.504195</td><td>11.618459</td><td>12.179778</td><td>11.711031</td><td>12.039073</td><td>23.364204</td><td>11.711031</td><td>19.950373</td><td>11.523703</td><td>11.030224</td><td>28.132244</td><td>2.734654</td><td>11.111619</td><td>11.030224</td><td>19.950373</td><td>2.244853</td><td>11.711031</td><td>28.227034</td><td>6.85158</td><td>11.614697</td><td>11.319461</td><td>14.553572</td><td>11.945323</td><td>9.411612</td><td>2.109274</td><td>12.183305</td><td>19.950373</td><td>&hellip;</td><td>191.846954</td><td>32.93869</td><td>58.409454</td><td>137.610565</td><td>191.846954</td><td>261.31369</td><td>182.315704</td><td>-33.670685</td><td>-55.965546</td><td>-71.733185</td><td>-17.840546</td><td>-128.826935</td><td>-36.903046</td><td>-109.795685</td><td>-94.090546</td><td>-128.826935</td><td>-75.028046</td><td>-185.920685</td><td>-94.090546</td><td>166.15744</td><td>382.471954</td><td>99.548065</td><td>239.503204</td><td>23.423065</td><td>258.565704</td><td>128.09494</td><td>296.690704</td><td>42.454315</td><td>287.159454</td><td>90.03244</td><td>325.284454</td><td>-71.733185</td><td>134.659454</td><td>-14.639435</td><td>96.534454</td><td>-14.639435</td><td>96.534454</td></tr><tr><td>22.453146</td><td>4.294943</td><td>13.075988</td><td>5.846945</td><td>6.417292</td><td>9.443306</td><td>22.390821</td><td>32.770657</td><td>13.626756</td><td>31.968765</td><td>23.507214</td><td>23.849894</td><td>12.93784</td><td>23.57346</td><td>51.437508</td><td>15.585301</td><td>30.120676</td><td>44.174957</td><td>5.346034</td><td>14.770279</td><td>22.861704</td><td>12.832644</td><td>7.826503</td><td>14.770279</td><td>44.174957</td><td>6.370039</td><td>13.562824</td><td>13.831188</td><td>31.968765</td><td>17.135775</td><td>5.937335</td><td>32.770657</td><td>22.828146</td><td>11.128171</td><td>5.49087</td><td>12.951118</td><td>44.174957</td><td>&hellip;</td><td>192.120987</td><td>40.768433</td><td>57.808487</td><td>136.549683</td><td>192.120987</td><td>289.799683</td><td>182.527237</td><td>-45.434692</td><td>-47.722763</td><td>-102.903442</td><td>-18.941513</td><td>-150.794067</td><td>-38.129013</td><td>-112.481567</td><td>-95.691513</td><td>-131.637817</td><td>-76.504013</td><td>-198.684692</td><td>-105.285263</td><td>155.705933</td><td>383.995972</td><td>88.659058</td><td>240.089737</td><td>2.455933</td><td>240.089737</td><td>117.393433</td><td>297.652222</td><td>31.190308</td><td>278.464722</td><td>69.502808</td><td>326.433472</td><td>-64.590942</td><td>134.558487</td><td>2.455933</td><td>96.183487</td><td>2.455933</td><td>96.183487</td></tr><tr><td>33.179173</td><td>38.979507</td><td>38.900639</td><td>19.712759</td><td>8.119927</td><td>99.160576</td><td>47.651257</td><td>25.979815</td><td>32.12096</td><td>33.179173</td><td>23.712339</td><td>29.745972</td><td>52.219578</td><td>41.110371</td><td>24.881371</td><td>14.454962</td><td>32.12096</td><td>46.190945</td><td>49.416424</td><td>45.986618</td><td>30.045647</td><td>104.065872</td><td>15.749166</td><td>45.986618</td><td>46.190945</td><td>8.231521</td><td>56.992519</td><td>36.034794</td><td>41.918255</td><td>53.493275</td><td>4.525387</td><td>25.979815</td><td>42.331455</td><td>25.072018</td><td>3.379211</td><td>122.089714</td><td>46.190945</td><td>&hellip;</td><td>195.569717</td><td>43.998383</td><td>33.288467</td><td>152.373383</td><td>195.569717</td><td>314.935883</td><td>150.491592</td><td>-46.314117</td><td>-56.867783</td><td>-109.532867</td><td>-47.852158</td><td>-163.720367</td><td>-65.883408</td><td>-100.501617</td><td>-2.774033</td><td>-118.564117</td><td>-2.774033</td><td>-163.720367</td><td>-47.852158</td><td>143.342133</td><td>357.850952</td><td>71.092133</td><td>213.600967</td><td>34.967133</td><td>222.616592</td><td>116.248383</td><td>276.710327</td><td>25.935883</td><td>249.663467</td><td>53.029633</td><td>303.757202</td><td>-55.345367</td><td>105.413467</td><td>7.873383</td><td>69.350967</td><td>7.873383</td><td>69.350967</td></tr><tr><td>49.79694</td><td>46.407078</td><td>54.370296</td><td>19.397928</td><td>107.684334</td><td>91.833565</td><td>64.107925</td><td>62.588787</td><td>40.779572</td><td>73.560287</td><td>39.430069</td><td>17.130297</td><td>47.772171</td><td>47.972736</td><td>56.986393</td><td>78.555916</td><td>40.779572</td><td>23.567719</td><td>44.56831</td><td>50.751717</td><td>54.424797</td><td>66.919067</td><td>25.226509</td><td>50.751717</td><td>23.567719</td><td>0.406025</td><td>47.972736</td><td>46.407078</td><td>75.871239</td><td>22.688917</td><td>8.145486</td><td>62.588787</td><td>55.943665</td><td>47.222454</td><td>72.841148</td><td>60.975365</td><td>23.567719</td><td>&hellip;</td><td>172.653839</td><td>50.035248</td><td>21.903839</td><td>175.660248</td><td>172.653839</td><td>309.660248</td><td>105.653839</td><td>-83.964752</td><td>-45.096161</td><td>-100.714752</td><td>-11.596161</td><td>-142.589752</td><td>-3.221161</td><td>-92.339752</td><td>13.528839</td><td>-100.714752</td><td>13.528839</td><td>-142.589752</td><td>-3.221161</td><td>117.035248</td><td>323.403839</td><td>117.035248</td><td>189.403839</td><td>24.910248</td><td>172.653839</td><td>108.660248</td><td>248.028839</td><td>24.910248</td><td>214.528839</td><td>33.285248</td><td>264.778839</td><td>-33.714752</td><td>97.278839</td><td>24.910248</td><td>80.528839</td><td>24.910248</td><td>80.528839</td></tr><tr><td>&hellip;</td><td>&hellip;</td><td>&hellip;</td><td>&hellip;</td><td>&hellip;</td><td>&hellip;</td><td>&hellip;</td><td>&hellip;</td><td>&hellip;</td><td>&hellip;</td><td>&hellip;</td><td>&hellip;</td><td>&hellip;</td><td>&hellip;</td><td>&hellip;</td><td>&hellip;</td><td>&hellip;</td><td>&hellip;</td><td>&hellip;</td><td>&hellip;</td><td>&hellip;</td><td>&hellip;</td><td>&hellip;</td><td>&hellip;</td><td>&hellip;</td><td>&hellip;</td><td>&hellip;</td><td>&hellip;</td><td>&hellip;</td><td>&hellip;</td><td>&hellip;</td><td>&hellip;</td><td>&hellip;</td><td>&hellip;</td><td>&hellip;</td><td>&hellip;</td><td>&hellip;</td><td>&hellip;</td><td>&hellip;</td><td>&hellip;</td><td>&hellip;</td><td>&hellip;</td><td>&hellip;</td><td>&hellip;</td><td>&hellip;</td><td>&hellip;</td><td>&hellip;</td><td>&hellip;</td><td>&hellip;</td><td>&hellip;</td><td>&hellip;</td><td>&hellip;</td><td>&hellip;</td><td>&hellip;</td><td>&hellip;</td><td>&hellip;</td><td>&hellip;</td><td>&hellip;</td><td>&hellip;</td><td>&hellip;</td><td>&hellip;</td><td>&hellip;</td><td>&hellip;</td><td>&hellip;</td><td>&hellip;</td><td>&hellip;</td><td>&hellip;</td><td>&hellip;</td><td>&hellip;</td><td>&hellip;</td><td>&hellip;</td><td>&hellip;</td><td>&hellip;</td><td>&hellip;</td><td>&hellip;</td></tr><tr><td>24.159718</td><td>12.547578</td><td>17.187473</td><td>0.79584</td><td>11.910875</td><td>18.542019</td><td>24.122826</td><td>12.116452</td><td>18.984442</td><td>30.570768</td><td>8.786743</td><td>18.298178</td><td>16.07815</td><td>19.096416</td><td>17.161715</td><td>7.606764</td><td>18.984442</td><td>4.8046875</td><td>18.932035</td><td>10.20851</td><td>10.867872</td><td>18.542019</td><td>11.243111</td><td>10.20851</td><td>4.8046875</td><td>1.785374</td><td>19.096416</td><td>12.547578</td><td>24.327188</td><td>7.170875</td><td>1.519104</td><td>12.116452</td><td>16.947575</td><td>8.317525</td><td>8.062504</td><td>28.580843</td><td>4.8046875</td><td>&hellip;</td><td>30.135406</td><td>57.218323</td><td>-126.020844</td><td>156.030823</td><td>30.135406</td><td>353.655823</td><td>54.791656</td><td>-0.422302</td><td>-2.739594</td><td>7.812073</td><td>38.354156</td><td>-25.125427</td><td>54.791656</td><td>-99.234802</td><td>-19.177094</td><td>-58.062927</td><td>54.791656</td><td>-58.062927</td><td>54.791656</td><td>65.452698</td><td>95.885406</td><td>106.624573</td><td>13.697906</td><td>24.280823</td><td>63.010406</td><td>57.218323</td><td>38.354156</td><td>32.515198</td><td>54.791656</td><td>-16.891052</td><td>63.010406</td><td>24.280823</td><td>54.791656</td><td>48.983948</td><td>-27.395844</td><td>48.983948</td><td>-27.395844</td></tr><tr><td>18.803114</td><td>11.731254</td><td>13.127836</td><td>20.029013</td><td>19.404375</td><td>10.484386</td><td>18.799219</td><td>9.582725</td><td>17.390688</td><td>20.668213</td><td>11.215192</td><td>19.090586</td><td>28.103226</td><td>18.808664</td><td>27.734533</td><td>12.906335</td><td>17.390688</td><td>6.897159</td><td>18.898403</td><td>6.919547</td><td>10.503929</td><td>10.484386</td><td>20.272827</td><td>6.919547</td><td>6.897159</td><td>7.804074</td><td>18.808664</td><td>11.731254</td><td>7.963433</td><td>128.873886</td><td>83.327675</td><td>9.582725</td><td>27.528542</td><td>1.581911</td><td>15.422453</td><td>17.95558</td><td>6.897159</td><td>&hellip;</td><td>22.166656</td><td>46.37738</td><td>-127.458344</td><td>145.93988</td><td>22.166656</td><td>353.361755</td><td>38.791656</td><td>-3.40387</td><td>-11.083344</td><td>-3.40387</td><td>38.791656</td><td>-44.888245</td><td>55.416656</td><td>-102.96637</td><td>-11.083344</td><td>-61.481995</td><td>55.416656</td><td>-61.481995</td><td>55.416656</td><td>54.674255</td><td>88.666656</td><td>87.861755</td><td>5.541656</td><td>145.93988</td><td>22.166656</td><td>46.37738</td><td>47.104156</td><td>21.486755</td><td>63.729156</td><td>62.97113</td><td>55.416656</td><td>21.486755</td><td>55.416656</td><td>46.37738</td><td>-27.708344</td><td>46.37738</td><td>-27.708344</td></tr><tr><td>13.99374</td><td>7.104931</td><td>8.53576</td><td>10.530789</td><td>15.02373</td><td>13.250316</td><td>5.362432</td><td>7.606234</td><td>15.571747</td><td>5.455055</td><td>6.795586</td><td>6.925564</td><td>21.9097</td><td>15.53907</td><td>12.934756</td><td>4.352404</td><td>15.571747</td><td>9.461983</td><td>6.438149</td><td>2.770663</td><td>3.996558</td><td>13.250316</td><td>4.576985</td><td>2.770663</td><td>9.461983</td><td>3.566721</td><td>15.53907</td><td>7.104931</td><td>27.403948</td><td>2.770663</td><td>40.244396</td><td>7.606234</td><td>5.4744</td><td>15.81525</td><td>13.710537</td><td>66.998978</td><td>9.461983</td><td>&hellip;</td><td>16.350952</td><td>44.75</td><td>-126.289673</td><td>145.4375</td><td>16.350952</td><td>355.203125</td><td>24.741577</td><td>2.796875</td><td>-0.430298</td><td>2.796875</td><td>33.132202</td><td>-55.9375</td><td>58.304077</td><td>-47.546875</td><td>24.741577</td><td>-72.71875</td><td>49.913452</td><td>-72.71875</td><td>49.913452</td><td>53.140625</td><td>83.475952</td><td>103.484375</td><td>-0.430298</td><td>145.4375</td><td>16.350952</td><td>53.140625</td><td>33.132202</td><td>27.96875</td><td>58.304077</td><td>27.96875</td><td>66.694702</td><td>19.578125</td><td>49.913452</td><td>44.75</td><td>-25.602173</td><td>44.75</td><td>-25.602173</td></tr><tr><td>5.956641</td><td>11.106754</td><td>5.789405</td><td>9.750782</td><td>5.800696</td><td>5.832888</td><td>5.894261</td><td>9.359786</td><td>14.191789</td><td>5.909855</td><td>5.646498</td><td>2.631897</td><td>14.025181</td><td>10.788816</td><td>10.68883</td><td>5.694761</td><td>14.191789</td><td>5.041781</td><td>2.572318</td><td>11.407133</td><td>11.170624</td><td>5.832888</td><td>5.644768</td><td>11.407133</td><td>5.041781</td><td>5.595114</td><td>10.788816</td><td>11.106754</td><td>25.805824</td><td>11.407133</td><td>40.242405</td><td>9.359786</td><td>2.568044</td><td>2.767897</td><td>2.952774</td><td>101.535065</td><td>5.041781</td><td>&hellip;</td><td>19.614594</td><td>39.875793</td><td>-123.291656</td><td>157.563293</td><td>19.614594</td><td>350.907043</td><td>28.020844</td><td>6.250793</td><td>2.802094</td><td>-2.155457</td><td>36.427094</td><td>-60.999207</td><td>61.645844</td><td>-145.061707</td><td>2.802094</td><td>-77.811707</td><td>53.239594</td><td>-77.811707</td><td>53.239594</td><td>48.282043</td><td>86.864594</td><td>107.125793</td><td>2.802094</td><td>157.563293</td><td>19.614594</td><td>48.282043</td><td>44.833344</td><td>23.063293</td><td>61.645844</td><td>65.094543</td><td>53.239594</td><td>31.469543</td><td>53.239594</td><td>48.282043</td><td>-30.822906</td><td>48.282043</td><td>-30.822906</td></tr><tr><td>7.486422</td><td>2.310203</td><td>9.765143</td><td>18.887934</td><td>1.755745</td><td>1.858291</td><td>1.982621</td><td>9.259503</td><td>6.741649</td><td>2.021763</td><td>2.279564</td><td>11.794283</td><td>1.961078</td><td>10.278406</td><td>2.356035</td><td>1.619469</td><td>6.741649</td><td>1.58934</td><td>2.717784</td><td>1.344159</td><td>1.429709</td><td>1.858291</td><td>1.421489</td><td>1.344159</td><td>1.58934</td><td>17.50296</td><td>10.278406</td><td>6.412925</td><td>2.178021</td><td>1.344159</td><td>1.326608</td><td>9.259503</td><td>7.112353</td><td>1.740242</td><td>1.492862</td><td>97.463081</td><td>1.58934</td><td>&hellip;</td><td>20.576935</td><td>35.152222</td><td>-121.53244</td><td>152.183472</td><td>20.576935</td><td>344.449097</td><td>28.93631</td><td>1.714722</td><td>3.858185</td><td>-6.644653</td><td>37.295685</td><td>-65.160278</td><td>62.37381</td><td>-56.800903</td><td>28.93631</td><td>-81.879028</td><td>54.014435</td><td>-81.879028</td><td>54.014435</td><td>60.230347</td><td>87.451935</td><td>102.027222</td><td>3.858185</td><td>152.183472</td><td>20.576935</td><td>60.230347</td><td>37.295685</td><td>18.433472</td><td>62.37381</td><td>60.230347</td><td>54.014435</td><td>26.792847</td><td>54.014435</td><td>51.870972</td><td>-29.579315</td><td>51.870972</td><td>-29.579315</td></tr></tbody></table></div>"
      ],
      "text/plain": [
       "shape: (18_019, 117)\n",
       "┌───────────┬───────────┬───────────┬───────────┬───┬───────────┬───────────┬───────────┬──────────┐\n",
       "│ nose_velo ┆ neck_end_ ┆ throat_en ┆ back_left ┆ … ┆ body_midd ┆ body_midd ┆ body_midd ┆ body_mid │\n",
       "│ city      ┆ velocity  ┆ d_velocit ┆ _knee_vel ┆   ┆ le_right_ ┆ le_right_ ┆ le_left_x ┆ dle_left │\n",
       "│ ---       ┆ ---       ┆ y         ┆ ocity     ┆   ┆ x         ┆ y         ┆ ---       ┆ _y       │\n",
       "│ f32       ┆ f32       ┆ ---       ┆ ---       ┆   ┆ ---       ┆ ---       ┆ f32       ┆ ---      │\n",
       "│           ┆           ┆ f32       ┆ f32       ┆   ┆ f32       ┆ f32       ┆           ┆ f32      │\n",
       "╞═══════════╪═══════════╪═══════════╪═══════════╪═══╪═══════════╪═══════════╪═══════════╪══════════╡\n",
       "│ 2.664108  ┆ 28.227034 ┆ 22.373381 ┆ 2.139955  ┆ … ┆ -16.42788 ┆ 90.966339 ┆ -16.42788 ┆ 90.96633 │\n",
       "│           ┆           ┆           ┆           ┆   ┆ 7         ┆           ┆ 7         ┆ 9        │\n",
       "│ 2.664108  ┆ 28.227034 ┆ 22.373381 ┆ 2.139955  ┆ … ┆ -14.63943 ┆ 96.534454 ┆ -14.63943 ┆ 96.53445 │\n",
       "│           ┆           ┆           ┆           ┆   ┆ 5         ┆           ┆ 5         ┆ 4        │\n",
       "│ 22.453146 ┆ 4.294943  ┆ 13.075988 ┆ 5.846945  ┆ … ┆ 2.455933  ┆ 96.183487 ┆ 2.455933  ┆ 96.18348 │\n",
       "│           ┆           ┆           ┆           ┆   ┆           ┆           ┆           ┆ 7        │\n",
       "│ 33.179173 ┆ 38.979507 ┆ 38.900639 ┆ 19.712759 ┆ … ┆ 7.873383  ┆ 69.350967 ┆ 7.873383  ┆ 69.35096 │\n",
       "│           ┆           ┆           ┆           ┆   ┆           ┆           ┆           ┆ 7        │\n",
       "│ 49.79694  ┆ 46.407078 ┆ 54.370296 ┆ 19.397928 ┆ … ┆ 24.910248 ┆ 80.528839 ┆ 24.910248 ┆ 80.52883 │\n",
       "│           ┆           ┆           ┆           ┆   ┆           ┆           ┆           ┆ 9        │\n",
       "│ …         ┆ …         ┆ …         ┆ …         ┆ … ┆ …         ┆ …         ┆ …         ┆ …        │\n",
       "│ 24.159718 ┆ 12.547578 ┆ 17.187473 ┆ 0.79584   ┆ … ┆ 48.983948 ┆ -27.39584 ┆ 48.983948 ┆ -27.3958 │\n",
       "│           ┆           ┆           ┆           ┆   ┆           ┆ 4         ┆           ┆ 44       │\n",
       "│ 18.803114 ┆ 11.731254 ┆ 13.127836 ┆ 20.029013 ┆ … ┆ 46.37738  ┆ -27.70834 ┆ 46.37738  ┆ -27.7083 │\n",
       "│           ┆           ┆           ┆           ┆   ┆           ┆ 4         ┆           ┆ 44       │\n",
       "│ 13.99374  ┆ 7.104931  ┆ 8.53576   ┆ 10.530789 ┆ … ┆ 44.75     ┆ -25.60217 ┆ 44.75     ┆ -25.6021 │\n",
       "│           ┆           ┆           ┆           ┆   ┆           ┆ 3         ┆           ┆ 73       │\n",
       "│ 5.956641  ┆ 11.106754 ┆ 5.789405  ┆ 9.750782  ┆ … ┆ 48.282043 ┆ -30.82290 ┆ 48.282043 ┆ -30.8229 │\n",
       "│           ┆           ┆           ┆           ┆   ┆           ┆ 6         ┆           ┆ 06       │\n",
       "│ 7.486422  ┆ 2.310203  ┆ 9.765143  ┆ 18.887934 ┆ … ┆ 51.870972 ┆ -29.57931 ┆ 51.870972 ┆ -29.5793 │\n",
       "│           ┆           ┆           ┆           ┆   ┆           ┆ 5         ┆           ┆ 15       │\n",
       "└───────────┴───────────┴───────────┴───────────┴───┴───────────┴───────────┴───────────┴──────────┘"
      ]
     },
     "execution_count": 126,
     "metadata": {},
     "output_type": "execute_result"
    }
   ],
   "source": [
    "df_combined"
   ]
  },
  {
   "cell_type": "code",
   "execution_count": 115,
   "id": "1164f211",
   "metadata": {},
   "outputs": [
    {
     "data": {
      "text/plain": [
       "{'video_path': '/home/thomas/Documents/DeepLabCutClusteringV3/data/preprocessed/hugo_project/videos/1-1_M1R_3d_camA.avi',\n",
       " 'dlc_path': '/home/thomas/Documents/DeepLabCutClusteringV3/data/preprocessed/hugo_project/dlc_data/1-1_M1R_3d_camA.h5',\n",
       " 'original_dlc_data': shape: (18_019, 117)\n",
       " ┌───────────┬───────────┬───────────┬───────────┬───┬───────────┬───────────┬───────────┬──────────┐\n",
       " │ nose_x    ┆ nose_y    ┆ nose_like ┆ upper_jaw ┆ … ┆ body_midd ┆ body_midd ┆ body_midd ┆ body_mid │\n",
       " │ ---       ┆ ---       ┆ lihood    ┆ _x        ┆   ┆ le_right_ ┆ le_left_x ┆ le_left_y ┆ dle_left │\n",
       " │ f32       ┆ f32       ┆ ---       ┆ ---       ┆   ┆ likelihoo ┆ ---       ┆ ---       ┆ _likelih │\n",
       " │           ┆           ┆ f32       ┆ f32       ┆   ┆ d         ┆ f32       ┆ f32       ┆ ood      │\n",
       " │           ┆           ┆           ┆           ┆   ┆ ---       ┆           ┆           ┆ ---      │\n",
       " │           ┆           ┆           ┆           ┆   ┆ f32       ┆           ┆           ┆ f32      │\n",
       " ╞═══════════╪═══════════╪═══════════╪═══════════╪═══╪═══════════╪═══════════╪═══════════╪══════════╡\n",
       " │ 190.34375 ┆ 4.78125   ┆ 0.357366  ┆ 171.21875 ┆ … ┆ 0.366315  ┆ 285.96875 ┆ 272.53125 ┆ 0.364136 │\n",
       " │ 193.00781 ┆ 4.765625  ┆ 0.299516  ┆ 183.49218 ┆ … ┆ 0.440591  ┆ 297.67968 ┆ 281.17187 ┆ 0.437999 │\n",
       " │ 2         ┆           ┆           ┆ 8         ┆   ┆           ┆ 8         ┆ 5         ┆          │\n",
       " │ 215.46093 ┆ 4.796875  ┆ 0.344737  ┆ 215.46093 ┆ … ┆ 0.470637  ┆ 330.39843 ┆ 283.01562 ┆ 0.467526 │\n",
       " │ 8         ┆           ┆           ┆ 8         ┆   ┆           ┆ 8         ┆ 5         ┆          │\n",
       " │ 220.82812 ┆ 37.539062 ┆ 1.0       ┆ 220.82812 ┆ … ┆ 0.435628  ┆ 356.29687 ┆ 280.96093 ┆ 0.432791 │\n",
       " │ 5         ┆           ┆           ┆ 5         ┆   ┆           ┆ 5         ┆ 8         ┆          │\n",
       " │ 240.4375  ┆ 83.3125   ┆ 0.935424  ┆ 240.4375  ┆ … ┆ 0.35012   ┆ 399.5625  ┆ 326.1875  ┆ 0.347916 │\n",
       " │ …         ┆ …         ┆ …         ┆ …         ┆ … ┆ …         ┆ …         ┆ …         ┆ …        │\n",
       " │ 413.82031 ┆ 480.85937 ┆ 1.0       ┆ 438.52343 ┆ … ┆ 0.495578  ┆ 586.74218 ┆ 398.67187 ┆ 0.512986 │\n",
       " │ 2         ┆ 5         ┆           ┆ 8         ┆   ┆           ┆ 8         ┆ 5         ┆          │\n",
       " │ 413.33593 ┆ 499.65625 ┆ 1.0       ┆ 429.92968 ┆ … ┆ 0.444037  ┆ 587.57031 ┆ 408.21875 ┆ 0.469534 │\n",
       " │ 8         ┆           ┆           ┆ 8         ┆   ┆           ┆ 2         ┆           ┆          │\n",
       " │ 399.36718 ┆ 498.82031 ┆ 1.0       ┆ 424.53906 ┆ … ┆ 0.467244  ┆ 583.96093 ┆ 414.91406 ┆ 0.493457 │\n",
       " │ 8         ┆ 2         ┆           ┆ 2         ┆   ┆           ┆ 8         ┆ 2         ┆          │\n",
       " │ 393.42187 ┆ 498.45312 ┆ 1.0       ┆ 418.64062 ┆ … ┆ 0.501618  ┆ 586.76562 ┆ 405.98437 ┆ 0.532242 │\n",
       " │ 5         ┆ 5         ┆           ┆ 5         ┆   ┆           ┆ 5         ┆ 5         ┆          │\n",
       " │ 395.25781 ┆ 491.19531 ┆ 1.0       ┆ 420.33593 ┆ … ┆ 0.505638  ┆ 595.88281 ┆ 407.60156 ┆ 0.538731 │\n",
       " │ 2         ┆ 2         ┆           ┆ 8         ┆   ┆           ┆ 2         ┆ 2         ┆          │\n",
       " └───────────┴───────────┴───────────┴───────────┴───┴───────────┴───────────┴───────────┴──────────┘,\n",
       " 'processed_dlc_data': []}"
      ]
     },
     "execution_count": 115,
     "metadata": {},
     "output_type": "execute_result"
    }
   ],
   "source": [
    "project_data[\"video_data\"][0]"
   ]
  },
  {
   "cell_type": "code",
   "execution_count": 105,
   "id": "92b5bc31",
   "metadata": {},
   "outputs": [],
   "source": [
    "for video_data in project_data[\"video_data\"]:\n",
    "    df = video_data[\"original_dlc_data\"]\n",
    "    "
   ]
  },
  {
   "cell_type": "code",
   "execution_count": 106,
   "id": "ba699009",
   "metadata": {},
   "outputs": [],
   "source": [
    "df = VelocityStrategy(df)"
   ]
  },
  {
   "cell_type": "code",
   "execution_count": 107,
   "id": "4532d8da",
   "metadata": {},
   "outputs": [
    {
     "data": {
      "text/html": [
       "<div><style>\n",
       ".dataframe > thead > tr,\n",
       ".dataframe > tbody > tr {\n",
       "  text-align: right;\n",
       "  white-space: pre-wrap;\n",
       "}\n",
       "</style>\n",
       "<small>shape: (18_019, 39)</small><table border=\"1\" class=\"dataframe\"><thead><tr><th>nose_velocity</th><th>neck_end_velocity</th><th>throat_end_velocity</th><th>back_left_knee_velocity</th><th>front_left_paw_velocity</th><th>front_right_paw_velocity</th><th>lower_jaw_velocity</th><th>body_middle_left_velocity</th><th>left_earbase_velocity</th><th>upper_jaw_velocity</th><th>back_middle_velocity</th><th>neck_base_velocity</th><th>mouth_end_left_velocity</th><th>right_antler_base_velocity</th><th>right_eye_velocity</th><th>front_left_knee_velocity</th><th>left_antler_base_velocity</th><th>tail_end_velocity</th><th>right_earend_velocity</th><th>back_end_velocity</th><th>belly_bottom_velocity</th><th>front_right_knee_velocity</th><th>back_right_knee_velocity</th><th>tail_base_velocity</th><th>right_antler_end_velocity</th><th>back_left_paw_velocity</th><th>right_earbase_velocity</th><th>back_base_velocity</th><th>mouth_end_right_velocity</th><th>back_right_thai_velocity</th><th>back_right_paw_velocity</th><th>body_middle_right_velocity</th><th>left_eye_velocity</th><th>front_left_thai_velocity</th><th>back_left_thai_velocity</th><th>front_right_thai_velocity</th><th>left_antler_end_velocity</th><th>throat_base_velocity</th><th>left_earend_velocity</th></tr><tr><td>f32</td><td>f32</td><td>f32</td><td>f32</td><td>f32</td><td>f32</td><td>f32</td><td>f32</td><td>f32</td><td>f32</td><td>f32</td><td>f32</td><td>f32</td><td>f32</td><td>f32</td><td>f32</td><td>f32</td><td>f32</td><td>f32</td><td>f32</td><td>f32</td><td>f32</td><td>f32</td><td>f32</td><td>f32</td><td>f32</td><td>f32</td><td>f32</td><td>f32</td><td>f32</td><td>f32</td><td>f32</td><td>f32</td><td>f32</td><td>f32</td><td>f32</td><td>f32</td><td>f32</td><td>f32</td></tr></thead><tbody><tr><td>2.664108</td><td>28.227034</td><td>22.373381</td><td>2.139955</td><td>9.474257</td><td>3.006879</td><td>11.801864</td><td>14.553572</td><td>28.498438</td><td>12.273447</td><td>11.504195</td><td>11.618459</td><td>12.179778</td><td>11.711031</td><td>12.039073</td><td>23.364204</td><td>11.711031</td><td>19.950373</td><td>11.523703</td><td>11.030224</td><td>28.132244</td><td>2.734654</td><td>11.111619</td><td>11.030224</td><td>19.950373</td><td>2.244853</td><td>11.711031</td><td>28.227034</td><td>6.85158</td><td>11.614697</td><td>11.319461</td><td>14.553572</td><td>11.945323</td><td>9.411612</td><td>2.109274</td><td>12.183305</td><td>19.950373</td><td>6.994299</td><td>20.992332</td></tr><tr><td>2.664108</td><td>28.227034</td><td>22.373381</td><td>2.139955</td><td>9.474257</td><td>3.006879</td><td>11.801864</td><td>14.553572</td><td>28.498438</td><td>12.273447</td><td>11.504195</td><td>11.618459</td><td>12.179778</td><td>11.711031</td><td>12.039073</td><td>23.364204</td><td>11.711031</td><td>19.950373</td><td>11.523703</td><td>11.030224</td><td>28.132244</td><td>2.734654</td><td>11.111619</td><td>11.030224</td><td>19.950373</td><td>2.244853</td><td>11.711031</td><td>28.227034</td><td>6.85158</td><td>11.614697</td><td>11.319461</td><td>14.553572</td><td>11.945323</td><td>9.411612</td><td>2.109274</td><td>12.183305</td><td>19.950373</td><td>6.994299</td><td>20.992332</td></tr><tr><td>22.453146</td><td>4.294943</td><td>13.075988</td><td>5.846945</td><td>6.417292</td><td>9.443306</td><td>22.390821</td><td>32.770657</td><td>13.626756</td><td>31.968765</td><td>23.507214</td><td>23.849894</td><td>12.93784</td><td>23.57346</td><td>51.437508</td><td>15.585301</td><td>30.120676</td><td>44.174957</td><td>5.346034</td><td>14.770279</td><td>22.861704</td><td>12.832644</td><td>7.826503</td><td>14.770279</td><td>44.174957</td><td>6.370039</td><td>13.562824</td><td>13.831188</td><td>31.968765</td><td>17.135775</td><td>5.937335</td><td>32.770657</td><td>22.828146</td><td>11.128171</td><td>5.49087</td><td>12.951118</td><td>44.174957</td><td>13.004544</td><td>10.680199</td></tr><tr><td>33.179173</td><td>38.979507</td><td>38.900639</td><td>19.712759</td><td>8.119927</td><td>99.160576</td><td>47.651257</td><td>25.979815</td><td>32.12096</td><td>33.179173</td><td>23.712339</td><td>29.745972</td><td>52.219578</td><td>41.110371</td><td>24.881371</td><td>14.454962</td><td>32.12096</td><td>46.190945</td><td>49.416424</td><td>45.986618</td><td>30.045647</td><td>104.065872</td><td>15.749166</td><td>45.986618</td><td>46.190945</td><td>8.231521</td><td>56.992519</td><td>36.034794</td><td>41.918255</td><td>53.493275</td><td>4.525387</td><td>25.979815</td><td>42.331455</td><td>25.072018</td><td>3.379211</td><td>122.089714</td><td>46.190945</td><td>49.846058</td><td>20.005983</td></tr><tr><td>49.79694</td><td>46.407078</td><td>54.370296</td><td>19.397928</td><td>107.684334</td><td>91.833565</td><td>64.107925</td><td>62.588787</td><td>40.779572</td><td>73.560287</td><td>39.430069</td><td>17.130297</td><td>47.772171</td><td>47.972736</td><td>56.986393</td><td>78.555916</td><td>40.779572</td><td>23.567719</td><td>44.56831</td><td>50.751717</td><td>54.424797</td><td>66.919067</td><td>25.226509</td><td>50.751717</td><td>23.567719</td><td>0.406025</td><td>47.972736</td><td>46.407078</td><td>75.871239</td><td>22.688917</td><td>8.145486</td><td>62.588787</td><td>55.943665</td><td>47.222454</td><td>72.841148</td><td>60.975365</td><td>23.567719</td><td>49.15461</td><td>40.426754</td></tr><tr><td>&hellip;</td><td>&hellip;</td><td>&hellip;</td><td>&hellip;</td><td>&hellip;</td><td>&hellip;</td><td>&hellip;</td><td>&hellip;</td><td>&hellip;</td><td>&hellip;</td><td>&hellip;</td><td>&hellip;</td><td>&hellip;</td><td>&hellip;</td><td>&hellip;</td><td>&hellip;</td><td>&hellip;</td><td>&hellip;</td><td>&hellip;</td><td>&hellip;</td><td>&hellip;</td><td>&hellip;</td><td>&hellip;</td><td>&hellip;</td><td>&hellip;</td><td>&hellip;</td><td>&hellip;</td><td>&hellip;</td><td>&hellip;</td><td>&hellip;</td><td>&hellip;</td><td>&hellip;</td><td>&hellip;</td><td>&hellip;</td><td>&hellip;</td><td>&hellip;</td><td>&hellip;</td><td>&hellip;</td><td>&hellip;</td></tr><tr><td>24.159718</td><td>12.547578</td><td>17.187473</td><td>0.79584</td><td>11.910875</td><td>18.542019</td><td>24.122826</td><td>12.116452</td><td>18.984442</td><td>30.570768</td><td>8.786743</td><td>18.298178</td><td>16.07815</td><td>19.096416</td><td>17.161715</td><td>7.606764</td><td>18.984442</td><td>4.8046875</td><td>18.932035</td><td>10.20851</td><td>10.867872</td><td>18.542019</td><td>11.243111</td><td>10.20851</td><td>4.8046875</td><td>1.785374</td><td>19.096416</td><td>12.547578</td><td>24.327188</td><td>7.170875</td><td>1.519104</td><td>12.116452</td><td>16.947575</td><td>8.317525</td><td>8.062504</td><td>28.580843</td><td>4.8046875</td><td>16.314074</td><td>19.730577</td></tr><tr><td>18.803114</td><td>11.731254</td><td>13.127836</td><td>20.029013</td><td>19.404375</td><td>10.484386</td><td>18.799219</td><td>9.582725</td><td>17.390688</td><td>20.668213</td><td>11.215192</td><td>19.090586</td><td>28.103226</td><td>18.808664</td><td>27.734533</td><td>12.906335</td><td>17.390688</td><td>6.897159</td><td>18.898403</td><td>6.919547</td><td>10.503929</td><td>10.484386</td><td>20.272827</td><td>6.919547</td><td>6.897159</td><td>7.804074</td><td>18.808664</td><td>11.731254</td><td>7.963433</td><td>128.873886</td><td>83.327675</td><td>9.582725</td><td>27.528542</td><td>1.581911</td><td>15.422453</td><td>17.95558</td><td>6.897159</td><td>10.109484</td><td>8.60973</td></tr><tr><td>13.99374</td><td>7.104931</td><td>8.53576</td><td>10.530789</td><td>15.02373</td><td>13.250316</td><td>5.362432</td><td>7.606234</td><td>15.571747</td><td>5.455055</td><td>6.795586</td><td>6.925564</td><td>21.9097</td><td>15.53907</td><td>12.934756</td><td>4.352404</td><td>15.571747</td><td>9.461983</td><td>6.438149</td><td>2.770663</td><td>3.996558</td><td>13.250316</td><td>4.576985</td><td>2.770663</td><td>9.461983</td><td>3.566721</td><td>15.53907</td><td>7.104931</td><td>27.403948</td><td>2.770663</td><td>40.244396</td><td>7.606234</td><td>5.4744</td><td>15.81525</td><td>13.710537</td><td>66.998978</td><td>9.461983</td><td>13.855272</td><td>14.764561</td></tr><tr><td>5.956641</td><td>11.106754</td><td>5.789405</td><td>9.750782</td><td>5.800696</td><td>5.832888</td><td>5.894261</td><td>9.359786</td><td>14.191789</td><td>5.909855</td><td>5.646498</td><td>2.631897</td><td>14.025181</td><td>10.788816</td><td>10.68883</td><td>5.694761</td><td>14.191789</td><td>5.041781</td><td>2.572318</td><td>11.407133</td><td>11.170624</td><td>5.832888</td><td>5.644768</td><td>11.407133</td><td>5.041781</td><td>5.595114</td><td>10.788816</td><td>11.106754</td><td>25.805824</td><td>11.407133</td><td>40.242405</td><td>9.359786</td><td>2.568044</td><td>2.767897</td><td>2.952774</td><td>101.535065</td><td>5.041781</td><td>10.563477</td><td>2.715268</td></tr><tr><td>7.486422</td><td>2.310203</td><td>9.765143</td><td>18.887934</td><td>1.755745</td><td>1.858291</td><td>1.982621</td><td>9.259503</td><td>6.741649</td><td>2.021763</td><td>2.279564</td><td>11.794283</td><td>1.961078</td><td>10.278406</td><td>2.356035</td><td>1.619469</td><td>6.741649</td><td>1.58934</td><td>2.717784</td><td>1.344159</td><td>1.429709</td><td>1.858291</td><td>1.421489</td><td>1.344159</td><td>1.58934</td><td>17.50296</td><td>10.278406</td><td>6.412925</td><td>2.178021</td><td>1.344159</td><td>1.326608</td><td>9.259503</td><td>7.112353</td><td>1.740242</td><td>1.492862</td><td>97.463081</td><td>1.58934</td><td>1.911526</td><td>6.493283</td></tr></tbody></table></div>"
      ],
      "text/plain": [
       "shape: (18_019, 39)\n",
       "┌───────────┬───────────┬───────────┬───────────┬───┬───────────┬───────────┬───────────┬──────────┐\n",
       "│ nose_velo ┆ neck_end_ ┆ throat_en ┆ back_left ┆ … ┆ front_rig ┆ left_antl ┆ throat_ba ┆ left_ear │\n",
       "│ city      ┆ velocity  ┆ d_velocit ┆ _knee_vel ┆   ┆ ht_thai_v ┆ er_end_ve ┆ se_veloci ┆ end_velo │\n",
       "│ ---       ┆ ---       ┆ y         ┆ ocity     ┆   ┆ elocity   ┆ locity    ┆ ty        ┆ city     │\n",
       "│ f32       ┆ f32       ┆ ---       ┆ ---       ┆   ┆ ---       ┆ ---       ┆ ---       ┆ ---      │\n",
       "│           ┆           ┆ f32       ┆ f32       ┆   ┆ f32       ┆ f32       ┆ f32       ┆ f32      │\n",
       "╞═══════════╪═══════════╪═══════════╪═══════════╪═══╪═══════════╪═══════════╪═══════════╪══════════╡\n",
       "│ 2.664108  ┆ 28.227034 ┆ 22.373381 ┆ 2.139955  ┆ … ┆ 12.183305 ┆ 19.950373 ┆ 6.994299  ┆ 20.99233 │\n",
       "│           ┆           ┆           ┆           ┆   ┆           ┆           ┆           ┆ 2        │\n",
       "│ 2.664108  ┆ 28.227034 ┆ 22.373381 ┆ 2.139955  ┆ … ┆ 12.183305 ┆ 19.950373 ┆ 6.994299  ┆ 20.99233 │\n",
       "│           ┆           ┆           ┆           ┆   ┆           ┆           ┆           ┆ 2        │\n",
       "│ 22.453146 ┆ 4.294943  ┆ 13.075988 ┆ 5.846945  ┆ … ┆ 12.951118 ┆ 44.174957 ┆ 13.004544 ┆ 10.68019 │\n",
       "│           ┆           ┆           ┆           ┆   ┆           ┆           ┆           ┆ 9        │\n",
       "│ 33.179173 ┆ 38.979507 ┆ 38.900639 ┆ 19.712759 ┆ … ┆ 122.08971 ┆ 46.190945 ┆ 49.846058 ┆ 20.00598 │\n",
       "│           ┆           ┆           ┆           ┆   ┆ 4         ┆           ┆           ┆ 3        │\n",
       "│ 49.79694  ┆ 46.407078 ┆ 54.370296 ┆ 19.397928 ┆ … ┆ 60.975365 ┆ 23.567719 ┆ 49.15461  ┆ 40.42675 │\n",
       "│           ┆           ┆           ┆           ┆   ┆           ┆           ┆           ┆ 4        │\n",
       "│ …         ┆ …         ┆ …         ┆ …         ┆ … ┆ …         ┆ …         ┆ …         ┆ …        │\n",
       "│ 24.159718 ┆ 12.547578 ┆ 17.187473 ┆ 0.79584   ┆ … ┆ 28.580843 ┆ 4.8046875 ┆ 16.314074 ┆ 19.73057 │\n",
       "│           ┆           ┆           ┆           ┆   ┆           ┆           ┆           ┆ 7        │\n",
       "│ 18.803114 ┆ 11.731254 ┆ 13.127836 ┆ 20.029013 ┆ … ┆ 17.95558  ┆ 6.897159  ┆ 10.109484 ┆ 8.60973  │\n",
       "│ 13.99374  ┆ 7.104931  ┆ 8.53576   ┆ 10.530789 ┆ … ┆ 66.998978 ┆ 9.461983  ┆ 13.855272 ┆ 14.76456 │\n",
       "│           ┆           ┆           ┆           ┆   ┆           ┆           ┆           ┆ 1        │\n",
       "│ 5.956641  ┆ 11.106754 ┆ 5.789405  ┆ 9.750782  ┆ … ┆ 101.53506 ┆ 5.041781  ┆ 10.563477 ┆ 2.715268 │\n",
       "│           ┆           ┆           ┆           ┆   ┆ 5         ┆           ┆           ┆          │\n",
       "│ 7.486422  ┆ 2.310203  ┆ 9.765143  ┆ 18.887934 ┆ … ┆ 97.463081 ┆ 1.58934   ┆ 1.911526  ┆ 6.493283 │\n",
       "└───────────┴───────────┴───────────┴───────────┴───┴───────────┴───────────┴───────────┴──────────┘"
      ]
     },
     "execution_count": 107,
     "metadata": {},
     "output_type": "execute_result"
    }
   ],
   "source": [
    "df"
   ]
  },
  {
   "cell_type": "code",
   "execution_count": 39,
   "id": "260b0ed4",
   "metadata": {},
   "outputs": [],
   "source": [
    "df = df.with_columns(\n",
    "    centroid_x=pl.concat_list(pl.col(\"^.*_x$\")).list.mean(),\n",
    ")\n",
    "df = df.with_columns(\n",
    "    centroid_y=pl.concat_list(pl.col(\"^.*_y$\")).list.mean(),\n",
    ")\n",
    "# df = df.with_columns(\n",
    "#     centroid_z=pl.concat_list(pl.col(\"^.*_z$\")).list.mean(),\n",
    "# )"
   ]
  },
  {
   "cell_type": "code",
   "execution_count": 30,
   "id": "f36c5abc",
   "metadata": {},
   "outputs": [],
   "source": [
    "centroid_x = pl.concat_list(pl.col(\"^.*_x$\")).list.mean()"
   ]
  },
  {
   "cell_type": "code",
   "execution_count": 31,
   "id": "6647588b",
   "metadata": {},
   "outputs": [
    {
     "data": {
      "text/html": [
       "col(\"^.*_x$\").list.concat().list.mean()"
      ],
      "text/plain": [
       "<Expr ['col(\"^.*_x$\").list.concat().li…'] at 0x7D5681C0E930>"
      ]
     },
     "execution_count": 31,
     "metadata": {},
     "output_type": "execute_result"
    }
   ],
   "source": [
    "centroid_x"
   ]
  },
  {
   "cell_type": "code",
   "execution_count": null,
   "id": "1b130097",
   "metadata": {},
   "outputs": [
    {
     "data": {
      "text/html": [
       "<div><style>\n",
       ".dataframe > thead > tr,\n",
       ".dataframe > tbody > tr {\n",
       "  text-align: right;\n",
       "  white-space: pre-wrap;\n",
       "}\n",
       "</style>\n",
       "<small>shape: (18_019, 117)</small><table border=\"1\" class=\"dataframe\"><thead><tr><th>nose_x</th><th>nose_y</th><th>nose_likelihood</th><th>upper_jaw_x</th><th>upper_jaw_y</th><th>upper_jaw_likelihood</th><th>lower_jaw_x</th><th>lower_jaw_y</th><th>lower_jaw_likelihood</th><th>mouth_end_right_x</th><th>mouth_end_right_y</th><th>mouth_end_right_likelihood</th><th>mouth_end_left_x</th><th>mouth_end_left_y</th><th>mouth_end_left_likelihood</th><th>right_eye_x</th><th>right_eye_y</th><th>right_eye_likelihood</th><th>right_earbase_x</th><th>right_earbase_y</th><th>right_earbase_likelihood</th><th>right_earend_x</th><th>right_earend_y</th><th>right_earend_likelihood</th><th>right_antler_base_x</th><th>right_antler_base_y</th><th>right_antler_base_likelihood</th><th>right_antler_end_x</th><th>right_antler_end_y</th><th>right_antler_end_likelihood</th><th>left_eye_x</th><th>left_eye_y</th><th>left_eye_likelihood</th><th>left_earbase_x</th><th>left_earbase_y</th><th>left_earbase_likelihood</th><th>left_earend_x</th><th>&hellip;</th><th>front_left_paw_likelihood</th><th>front_right_thai_x</th><th>front_right_thai_y</th><th>front_right_thai_likelihood</th><th>front_right_knee_x</th><th>front_right_knee_y</th><th>front_right_knee_likelihood</th><th>front_right_paw_x</th><th>front_right_paw_y</th><th>front_right_paw_likelihood</th><th>back_left_paw_x</th><th>back_left_paw_y</th><th>back_left_paw_likelihood</th><th>back_left_thai_x</th><th>back_left_thai_y</th><th>back_left_thai_likelihood</th><th>back_right_thai_x</th><th>back_right_thai_y</th><th>back_right_thai_likelihood</th><th>back_left_knee_x</th><th>back_left_knee_y</th><th>back_left_knee_likelihood</th><th>back_right_knee_x</th><th>back_right_knee_y</th><th>back_right_knee_likelihood</th><th>back_right_paw_x</th><th>back_right_paw_y</th><th>back_right_paw_likelihood</th><th>belly_bottom_x</th><th>belly_bottom_y</th><th>belly_bottom_likelihood</th><th>body_middle_right_x</th><th>body_middle_right_y</th><th>body_middle_right_likelihood</th><th>body_middle_left_x</th><th>body_middle_left_y</th><th>body_middle_left_likelihood</th></tr><tr><td>f32</td><td>f32</td><td>f32</td><td>f32</td><td>f32</td><td>f32</td><td>f32</td><td>f32</td><td>f32</td><td>f32</td><td>f32</td><td>f32</td><td>f32</td><td>f32</td><td>f32</td><td>f32</td><td>f32</td><td>f32</td><td>f32</td><td>f32</td><td>f32</td><td>f32</td><td>f32</td><td>f32</td><td>f32</td><td>f32</td><td>f32</td><td>f32</td><td>f32</td><td>f32</td><td>f32</td><td>f32</td><td>f32</td><td>f32</td><td>f32</td><td>f32</td><td>f32</td><td>&hellip;</td><td>f32</td><td>f32</td><td>f32</td><td>f32</td><td>f32</td><td>f32</td><td>f32</td><td>f32</td><td>f32</td><td>f32</td><td>f32</td><td>f32</td><td>f32</td><td>f32</td><td>f32</td><td>f32</td><td>f32</td><td>f32</td><td>f32</td><td>f32</td><td>f32</td><td>f32</td><td>f32</td><td>f32</td><td>f32</td><td>f32</td><td>f32</td><td>f32</td><td>f32</td><td>f32</td><td>f32</td><td>f32</td><td>f32</td><td>f32</td><td>f32</td><td>f32</td><td>f32</td></tr></thead><tbody><tr><td>190.34375</td><td>4.78125</td><td>0.357366</td><td>171.21875</td><td>4.78125</td><td>0.399968</td><td>190.34375</td><td>23.90625</td><td>0.535817</td><td>190.34375</td><td>4.78125</td><td>0.461428</td><td>190.34375</td><td>14.34375</td><td>0.505818</td><td>219.03125</td><td>4.78125</td><td>0.179249</td><td>285.96875</td><td>14.34375</td><td>0.584802</td><td>324.21875</td><td>23.90625</td><td>0.215253</td><td>285.96875</td><td>14.34375</td><td>0.668526</td><td>553.71875</td><td>368.15625</td><td>0.553569</td><td>238.15625</td><td>4.78125</td><td>0.332158</td><td>285.96875</td><td>14.34375</td><td>0.725044</td><td>333.78125</td><td>&hellip;</td><td>0.894812</td><td>190.34375</td><td>90.84375</td><td>0.810543</td><td>180.78125</td><td>109.96875</td><td>0.809678</td><td>123.40625</td><td>90.84375</td><td>1.0</td><td>477.21875</td><td>568.96875</td><td>1.0</td><td>410.28125</td><td>425.53125</td><td>0.900944</td><td>324.21875</td><td>444.65625</td><td>0.817142</td><td>438.96875</td><td>482.90625</td><td>0.961541</td><td>362.46875</td><td>463.78125</td><td>0.690408</td><td>391.15625</td><td>511.59375</td><td>1.0</td><td>219.03125</td><td>301.21875</td><td>0.349726</td><td>285.96875</td><td>272.53125</td><td>0.366315</td><td>285.96875</td><td>272.53125</td><td>0.364136</td></tr><tr><td>193.007812</td><td>4.765625</td><td>0.299516</td><td>183.492188</td><td>4.765625</td><td>0.42101</td><td>183.492188</td><td>14.296875</td><td>0.634462</td><td>183.492188</td><td>4.765625</td><td>0.447349</td><td>202.523438</td><td>14.296875</td><td>0.673695</td><td>231.070312</td><td>4.765625</td><td>0.151945</td><td>297.679688</td><td>14.296875</td><td>0.64389</td><td>335.742188</td><td>23.828125</td><td>0.313763</td><td>297.679688</td><td>14.296875</td><td>0.72387</td><td>573.632812</td><td>366.953125</td><td>0.520749</td><td>250.101562</td><td>4.765625</td><td>0.420117</td><td>307.195312</td><td>33.359375</td><td>0.72924</td><td>354.773438</td><td>&hellip;</td><td>1.0</td><td>202.523438</td><td>90.546875</td><td>0.84075</td><td>183.492188</td><td>109.609375</td><td>0.844054</td><td>126.398438</td><td>90.546875</td><td>1.0</td><td>478.476562</td><td>567.109375</td><td>1.0</td><td>411.867188</td><td>424.140625</td><td>0.837368</td><td>335.742188</td><td>443.203125</td><td>0.833521</td><td>440.414062</td><td>481.328125</td><td>0.995627</td><td>354.773438</td><td>471.796875</td><td>0.802889</td><td>402.351562</td><td>509.921875</td><td>1.0</td><td>240.585938</td><td>319.296875</td><td>0.602081</td><td>297.679688</td><td>281.171875</td><td>0.440591</td><td>297.679688</td><td>281.171875</td><td>0.437999</td></tr><tr><td>215.460938</td><td>4.796875</td><td>0.344737</td><td>215.460938</td><td>4.796875</td><td>0.52707</td><td>205.882812</td><td>14.390625</td><td>0.74023</td><td>215.460938</td><td>4.796875</td><td>0.557477</td><td>215.460938</td><td>14.390625</td><td>0.675476</td><td>282.507812</td><td>4.796875</td><td>0.256158</td><td>311.242188</td><td>14.390625</td><td>0.639637</td><td>330.398438</td><td>23.984375</td><td>0.477865</td><td>311.242188</td><td>33.578125</td><td>0.705713</td><td>617.742188</td><td>369.359375</td><td>0.51788</td><td>272.929688</td><td>4.796875</td><td>0.645129</td><td>320.820312</td><td>33.578125</td><td>0.764062</td><td>359.132812</td><td>&hellip;</td><td>1.0</td><td>215.460938</td><td>91.140625</td><td>0.702005</td><td>196.304688</td><td>110.328125</td><td>0.825106</td><td>129.257812</td><td>81.546875</td><td>1.0</td><td>483.648438</td><td>570.828125</td><td>1.0</td><td>416.601562</td><td>426.921875</td><td>0.834502</td><td>330.398438</td><td>426.921875</td><td>0.677227</td><td>445.335938</td><td>484.484375</td><td>0.987816</td><td>359.132812</td><td>465.296875</td><td>0.786037</td><td>397.445312</td><td>513.265625</td><td>1.0</td><td>263.351562</td><td>321.390625</td><td>0.816367</td><td>330.398438</td><td>283.015625</td><td>0.470637</td><td>330.398438</td><td>283.015625</td><td>0.467526</td></tr><tr><td>220.828125</td><td>37.539062</td><td>1.0</td><td>220.828125</td><td>37.539062</td><td>1.0</td><td>229.859375</td><td>55.570312</td><td>0.899582</td><td>211.796875</td><td>46.554688</td><td>0.341739</td><td>229.859375</td><td>64.585938</td><td>1.0</td><td>275.015625</td><td>28.523438</td><td>0.304315</td><td>338.234375</td><td>64.585938</td><td>0.418551</td><td>374.359375</td><td>46.554688</td><td>0.239053</td><td>338.234375</td><td>64.585938</td><td>0.523883</td><td>663.359375</td><td>362.101562</td><td>0.519816</td><td>265.984375</td><td>46.554688</td><td>0.93493</td><td>329.203125</td><td>64.585938</td><td>0.942871</td><td>374.359375</td><td>&hellip;</td><td>1.0</td><td>247.921875</td><td>208.835938</td><td>0.503919</td><td>229.859375</td><td>208.835938</td><td>0.346216</td><td>184.703125</td><td>163.757812</td><td>0.455305</td><td>491.765625</td><td>569.460938</td><td>1.0</td><td>419.515625</td><td>425.210938</td><td>0.630864</td><td>383.390625</td><td>434.226562</td><td>0.337258</td><td>464.671875</td><td>488.320312</td><td>0.942498</td><td>374.359375</td><td>461.273438</td><td>0.795941</td><td>401.453125</td><td>515.367188</td><td>1.0</td><td>293.078125</td><td>317.023438</td><td>0.97402</td><td>356.296875</td><td>280.960938</td><td>0.435628</td><td>356.296875</td><td>280.960938</td><td>0.432791</td></tr><tr><td>240.4375</td><td>83.3125</td><td>0.935424</td><td>240.4375</td><td>108.4375</td><td>0.928254</td><td>248.8125</td><td>116.8125</td><td>0.846355</td><td>240.4375</td><td>116.8125</td><td>0.195617</td><td>248.8125</td><td>108.4375</td><td>0.899499</td><td>290.6875</td><td>83.3125</td><td>0.257296</td><td>357.6875</td><td>108.4375</td><td>0.932206</td><td>399.5625</td><td>83.3125</td><td>0.697514</td><td>357.6875</td><td>108.4375</td><td>0.971429</td><td>684.3125</td><td>351.3125</td><td>0.525065</td><td>282.3125</td><td>100.0625</td><td>0.794326</td><td>349.3125</td><td>100.0625</td><td>0.673664</td><td>391.1875</td><td>&hellip;</td><td>0.907492</td><td>282.3125</td><td>259.1875</td><td>0.073892</td><td>273.9375</td><td>259.1875</td><td>0.092452</td><td>232.0625</td><td>242.4375</td><td>0.534562</td><td>491.6875</td><td>569.0625</td><td>1.0</td><td>491.6875</td><td>435.0625</td><td>0.646498</td><td>399.5625</td><td>418.3125</td><td>0.611665</td><td>483.3125</td><td>493.6875</td><td>0.826316</td><td>399.5625</td><td>460.1875</td><td>1.0</td><td>407.9375</td><td>510.4375</td><td>1.0</td><td>340.9375</td><td>342.9375</td><td>0.783148</td><td>399.5625</td><td>326.1875</td><td>0.35012</td><td>399.5625</td><td>326.1875</td><td>0.347916</td></tr><tr><td>&hellip;</td><td>&hellip;</td><td>&hellip;</td><td>&hellip;</td><td>&hellip;</td><td>&hellip;</td><td>&hellip;</td><td>&hellip;</td><td>&hellip;</td><td>&hellip;</td><td>&hellip;</td><td>&hellip;</td><td>&hellip;</td><td>&hellip;</td><td>&hellip;</td><td>&hellip;</td><td>&hellip;</td><td>&hellip;</td><td>&hellip;</td><td>&hellip;</td><td>&hellip;</td><td>&hellip;</td><td>&hellip;</td><td>&hellip;</td><td>&hellip;</td><td>&hellip;</td><td>&hellip;</td><td>&hellip;</td><td>&hellip;</td><td>&hellip;</td><td>&hellip;</td><td>&hellip;</td><td>&hellip;</td><td>&hellip;</td><td>&hellip;</td><td>&hellip;</td><td>&hellip;</td><td>&hellip;</td><td>&hellip;</td><td>&hellip;</td><td>&hellip;</td><td>&hellip;</td><td>&hellip;</td><td>&hellip;</td><td>&hellip;</td><td>&hellip;</td><td>&hellip;</td><td>&hellip;</td><td>&hellip;</td><td>&hellip;</td><td>&hellip;</td><td>&hellip;</td><td>&hellip;</td><td>&hellip;</td><td>&hellip;</td><td>&hellip;</td><td>&hellip;</td><td>&hellip;</td><td>&hellip;</td><td>&hellip;</td><td>&hellip;</td><td>&hellip;</td><td>&hellip;</td><td>&hellip;</td><td>&hellip;</td><td>&hellip;</td><td>&hellip;</td><td>&hellip;</td><td>&hellip;</td><td>&hellip;</td><td>&hellip;</td><td>&hellip;</td><td>&hellip;</td><td>&hellip;</td><td>&hellip;</td></tr><tr><td>413.820312</td><td>480.859375</td><td>1.0</td><td>438.523438</td><td>480.859375</td><td>0.919208</td><td>438.523438</td><td>480.859375</td><td>0.969877</td><td>397.351562</td><td>472.640625</td><td>0.08572</td><td>446.757812</td><td>464.421875</td><td>1.0</td><td>397.351562</td><td>406.890625</td><td>0.266725</td><td>413.820312</td><td>332.921875</td><td>1.0</td><td>413.820312</td><td>300.046875</td><td>1.0</td><td>413.820312</td><td>332.921875</td><td>0.981456</td><td>891.414062</td><td>480.859375</td><td>0.410863</td><td>430.289062</td><td>415.109375</td><td>1.0</td><td>471.460938</td><td>357.578125</td><td>0.902569</td><td>487.929688</td><td>&hellip;</td><td>0.95165</td><td>438.523438</td><td>406.890625</td><td>0.021152</td><td>479.695312</td><td>480.859375</td><td>0.018329</td><td>479.695312</td><td>480.859375</td><td>0.839515</td><td>603.210938</td><td>521.953125</td><td>1.0</td><td>644.382812</td><td>439.765625</td><td>0.813735</td><td>562.039062</td><td>489.078125</td><td>0.013863</td><td>594.976562</td><td>464.421875</td><td>0.813869</td><td>570.273438</td><td>480.859375</td><td>0.347699</td><td>520.867188</td><td>489.078125</td><td>0.886774</td><td>562.039062</td><td>480.859375</td><td>0.739287</td><td>586.742188</td><td>398.671875</td><td>0.495578</td><td>586.742188</td><td>398.671875</td><td>0.512986</td></tr><tr><td>413.335938</td><td>499.65625</td><td>1.0</td><td>429.929688</td><td>499.65625</td><td>0.930146</td><td>438.226562</td><td>499.65625</td><td>0.850652</td><td>405.039062</td><td>474.71875</td><td>0.081954</td><td>454.820312</td><td>491.34375</td><td>1.0</td><td>388.445312</td><td>433.15625</td><td>0.46385</td><td>421.632812</td><td>350.03125</td><td>0.96873</td><td>405.039062</td><td>316.78125</td><td>1.0</td><td>421.632812</td><td>350.03125</td><td>0.945387</td><td>894.554688</td><td>474.71875</td><td>0.407242</td><td>438.226562</td><td>441.46875</td><td>1.0</td><td>471.414062</td><td>374.96875</td><td>0.957285</td><td>488.007812</td><td>&hellip;</td><td>0.905201</td><td>438.226562</td><td>424.84375</td><td>0.029489</td><td>479.710938</td><td>491.34375</td><td>0.021186</td><td>479.710938</td><td>491.34375</td><td>1.0</td><td>595.867188</td><td>524.59375</td><td>1.0</td><td>629.054688</td><td>441.46875</td><td>0.719312</td><td>687.132812</td><td>458.09375</td><td>0.012233</td><td>587.570312</td><td>483.03125</td><td>0.84472</td><td>562.679688</td><td>499.65625</td><td>0.178152</td><td>604.164062</td><td>491.34375</td><td>0.224515</td><td>562.679688</td><td>491.34375</td><td>0.854986</td><td>587.570312</td><td>408.21875</td><td>0.444037</td><td>587.570312</td><td>408.21875</td><td>0.469534</td></tr><tr><td>399.367188</td><td>498.820312</td><td>1.0</td><td>424.539062</td><td>498.820312</td><td>0.838098</td><td>432.929688</td><td>498.820312</td><td>0.867662</td><td>382.585938</td><td>490.429688</td><td>0.075356</td><td>432.929688</td><td>490.429688</td><td>0.974236</td><td>399.367188</td><td>440.085938</td><td>0.41711</td><td>416.148438</td><td>364.570312</td><td>1.0</td><td>407.757812</td><td>322.617188</td><td>1.0</td><td>416.148438</td><td>364.570312</td><td>1.0</td><td>894.414062</td><td>465.257812</td><td>0.35702</td><td>432.929688</td><td>440.085938</td><td>1.0</td><td>466.492188</td><td>389.742188</td><td>0.961359</td><td>491.664062</td><td>&hellip;</td><td>1.0</td><td>491.664062</td><td>465.257812</td><td>0.019258</td><td>466.492188</td><td>490.429688</td><td>0.022192</td><td>466.492188</td><td>490.429688</td><td>1.0</td><td>592.351562</td><td>523.992188</td><td>1.0</td><td>642.695312</td><td>440.085938</td><td>0.821095</td><td>684.648438</td><td>456.867188</td><td>0.011755</td><td>592.351562</td><td>473.648438</td><td>0.833303</td><td>567.179688</td><td>498.820312</td><td>0.123333</td><td>567.179688</td><td>507.210938</td><td>0.210021</td><td>558.789062</td><td>490.429688</td><td>0.908507</td><td>583.960938</td><td>414.914062</td><td>0.467244</td><td>583.960938</td><td>414.914062</td><td>0.493457</td></tr><tr><td>393.421875</td><td>498.453125</td><td>1.0</td><td>418.640625</td><td>498.453125</td><td>0.905593</td><td>427.046875</td><td>498.453125</td><td>0.879465</td><td>401.828125</td><td>473.234375</td><td>0.098501</td><td>443.859375</td><td>481.640625</td><td>0.999548</td><td>393.421875</td><td>431.203125</td><td>0.343884</td><td>410.234375</td><td>355.546875</td><td>1.0</td><td>410.234375</td><td>321.921875</td><td>1.0</td><td>410.234375</td><td>355.546875</td><td>0.997109</td><td>889.390625</td><td>464.828125</td><td>0.378652</td><td>435.453125</td><td>439.609375</td><td>1.0</td><td>477.484375</td><td>380.765625</td><td>0.877808</td><td>494.296875</td><td>&hellip;</td><td>1.0</td><td>393.421875</td><td>439.609375</td><td>0.031287</td><td>460.671875</td><td>490.046875</td><td>0.021728</td><td>460.671875</td><td>490.046875</td><td>1.0</td><td>586.765625</td><td>523.671875</td><td>1.0</td><td>645.609375</td><td>439.609375</td><td>0.884899</td><td>696.046875</td><td>456.421875</td><td>0.011233</td><td>586.765625</td><td>481.640625</td><td>0.762989</td><td>561.546875</td><td>498.453125</td><td>0.125271</td><td>603.578125</td><td>490.046875</td><td>0.244826</td><td>569.953125</td><td>490.046875</td><td>0.862775</td><td>586.765625</td><td>405.984375</td><td>0.501618</td><td>586.765625</td><td>405.984375</td><td>0.532242</td></tr><tr><td>395.257812</td><td>491.195312</td><td>1.0</td><td>420.335938</td><td>499.554688</td><td>0.949085</td><td>428.695312</td><td>499.554688</td><td>0.83621</td><td>403.617188</td><td>474.476562</td><td>0.093708</td><td>445.414062</td><td>482.835938</td><td>1.0</td><td>395.257812</td><td>432.679688</td><td>0.375969</td><td>420.335938</td><td>357.445312</td><td>1.0</td><td>411.976562</td><td>324.007812</td><td>1.0</td><td>420.335938</td><td>357.445312</td><td>0.977788</td><td>888.460938</td><td>466.117188</td><td>0.397777</td><td>437.054688</td><td>432.679688</td><td>1.0</td><td>478.851562</td><td>374.164062</td><td>0.902208</td><td>495.570312</td><td>&hellip;</td><td>1.0</td><td>487.210938</td><td>466.117188</td><td>0.01926</td><td>462.132812</td><td>491.195312</td><td>0.021975</td><td>462.132812</td><td>491.195312</td><td>1.0</td><td>604.242188</td><td>524.632812</td><td>0.999407</td><td>646.039062</td><td>441.039062</td><td>0.891105</td><td>696.195312</td><td>457.757812</td><td>0.010718</td><td>604.242188</td><td>474.476562</td><td>0.747001</td><td>562.445312</td><td>499.554688</td><td>0.122196</td><td>604.242188</td><td>491.195312</td><td>0.229465</td><td>570.804688</td><td>491.195312</td><td>0.872474</td><td>595.882812</td><td>407.601562</td><td>0.505638</td><td>595.882812</td><td>407.601562</td><td>0.538731</td></tr></tbody></table></div>"
      ],
      "text/plain": [
       "shape: (18_019, 117)\n",
       "┌───────────┬───────────┬───────────┬───────────┬───┬───────────┬───────────┬───────────┬──────────┐\n",
       "│ nose_x    ┆ nose_y    ┆ nose_like ┆ upper_jaw ┆ … ┆ body_midd ┆ body_midd ┆ body_midd ┆ body_mid │\n",
       "│ ---       ┆ ---       ┆ lihood    ┆ _x        ┆   ┆ le_right_ ┆ le_left_x ┆ le_left_y ┆ dle_left │\n",
       "│ f32       ┆ f32       ┆ ---       ┆ ---       ┆   ┆ likelihoo ┆ ---       ┆ ---       ┆ _likelih │\n",
       "│           ┆           ┆ f32       ┆ f32       ┆   ┆ d         ┆ f32       ┆ f32       ┆ ood      │\n",
       "│           ┆           ┆           ┆           ┆   ┆ ---       ┆           ┆           ┆ ---      │\n",
       "│           ┆           ┆           ┆           ┆   ┆ f32       ┆           ┆           ┆ f32      │\n",
       "╞═══════════╪═══════════╪═══════════╪═══════════╪═══╪═══════════╪═══════════╪═══════════╪══════════╡\n",
       "│ 190.34375 ┆ 4.78125   ┆ 0.357366  ┆ 171.21875 ┆ … ┆ 0.366315  ┆ 285.96875 ┆ 272.53125 ┆ 0.364136 │\n",
       "│ 193.00781 ┆ 4.765625  ┆ 0.299516  ┆ 183.49218 ┆ … ┆ 0.440591  ┆ 297.67968 ┆ 281.17187 ┆ 0.437999 │\n",
       "│ 2         ┆           ┆           ┆ 8         ┆   ┆           ┆ 8         ┆ 5         ┆          │\n",
       "│ 215.46093 ┆ 4.796875  ┆ 0.344737  ┆ 215.46093 ┆ … ┆ 0.470637  ┆ 330.39843 ┆ 283.01562 ┆ 0.467526 │\n",
       "│ 8         ┆           ┆           ┆ 8         ┆   ┆           ┆ 8         ┆ 5         ┆          │\n",
       "│ 220.82812 ┆ 37.539062 ┆ 1.0       ┆ 220.82812 ┆ … ┆ 0.435628  ┆ 356.29687 ┆ 280.96093 ┆ 0.432791 │\n",
       "│ 5         ┆           ┆           ┆ 5         ┆   ┆           ┆ 5         ┆ 8         ┆          │\n",
       "│ 240.4375  ┆ 83.3125   ┆ 0.935424  ┆ 240.4375  ┆ … ┆ 0.35012   ┆ 399.5625  ┆ 326.1875  ┆ 0.347916 │\n",
       "│ …         ┆ …         ┆ …         ┆ …         ┆ … ┆ …         ┆ …         ┆ …         ┆ …        │\n",
       "│ 413.82031 ┆ 480.85937 ┆ 1.0       ┆ 438.52343 ┆ … ┆ 0.495578  ┆ 586.74218 ┆ 398.67187 ┆ 0.512986 │\n",
       "│ 2         ┆ 5         ┆           ┆ 8         ┆   ┆           ┆ 8         ┆ 5         ┆          │\n",
       "│ 413.33593 ┆ 499.65625 ┆ 1.0       ┆ 429.92968 ┆ … ┆ 0.444037  ┆ 587.57031 ┆ 408.21875 ┆ 0.469534 │\n",
       "│ 8         ┆           ┆           ┆ 8         ┆   ┆           ┆ 2         ┆           ┆          │\n",
       "│ 399.36718 ┆ 498.82031 ┆ 1.0       ┆ 424.53906 ┆ … ┆ 0.467244  ┆ 583.96093 ┆ 414.91406 ┆ 0.493457 │\n",
       "│ 8         ┆ 2         ┆           ┆ 2         ┆   ┆           ┆ 8         ┆ 2         ┆          │\n",
       "│ 393.42187 ┆ 498.45312 ┆ 1.0       ┆ 418.64062 ┆ … ┆ 0.501618  ┆ 586.76562 ┆ 405.98437 ┆ 0.532242 │\n",
       "│ 5         ┆ 5         ┆           ┆ 5         ┆   ┆           ┆ 5         ┆ 5         ┆          │\n",
       "│ 395.25781 ┆ 491.19531 ┆ 1.0       ┆ 420.33593 ┆ … ┆ 0.505638  ┆ 595.88281 ┆ 407.60156 ┆ 0.538731 │\n",
       "│ 2         ┆ 2         ┆           ┆ 8         ┆   ┆           ┆ 2         ┆ 2         ┆          │\n",
       "└───────────┴───────────┴───────────┴───────────┴───┴───────────┴───────────┴───────────┴──────────┘"
      ]
     },
     "execution_count": 18,
     "metadata": {},
     "output_type": "execute_result"
    }
   ],
   "source": [
    "for dimension in [\"_x\", \"_y\", \"_z\"]:\n",
    "    \n"
   ]
  },
  {
   "cell_type": "code",
   "execution_count": 14,
   "id": "5eafedf2",
   "metadata": {},
   "outputs": [
    {
     "data": {
      "text/html": [
       "<div><style>\n",
       ".dataframe > thead > tr,\n",
       ".dataframe > tbody > tr {\n",
       "  text-align: right;\n",
       "  white-space: pre-wrap;\n",
       "}\n",
       "</style>\n",
       "<small>shape: (18_019, 117)</small><table border=\"1\" class=\"dataframe\"><thead><tr><th>nose_x</th><th>nose_y</th><th>nose_likelihood</th><th>upper_jaw_x</th><th>upper_jaw_y</th><th>upper_jaw_likelihood</th><th>lower_jaw_x</th><th>lower_jaw_y</th><th>lower_jaw_likelihood</th><th>mouth_end_right_x</th><th>mouth_end_right_y</th><th>mouth_end_right_likelihood</th><th>mouth_end_left_x</th><th>mouth_end_left_y</th><th>mouth_end_left_likelihood</th><th>right_eye_x</th><th>right_eye_y</th><th>right_eye_likelihood</th><th>right_earbase_x</th><th>right_earbase_y</th><th>right_earbase_likelihood</th><th>right_earend_x</th><th>right_earend_y</th><th>right_earend_likelihood</th><th>right_antler_base_x</th><th>right_antler_base_y</th><th>right_antler_base_likelihood</th><th>right_antler_end_x</th><th>right_antler_end_y</th><th>right_antler_end_likelihood</th><th>left_eye_x</th><th>left_eye_y</th><th>left_eye_likelihood</th><th>left_earbase_x</th><th>left_earbase_y</th><th>left_earbase_likelihood</th><th>left_earend_x</th><th>&hellip;</th><th>front_left_paw_likelihood</th><th>front_right_thai_x</th><th>front_right_thai_y</th><th>front_right_thai_likelihood</th><th>front_right_knee_x</th><th>front_right_knee_y</th><th>front_right_knee_likelihood</th><th>front_right_paw_x</th><th>front_right_paw_y</th><th>front_right_paw_likelihood</th><th>back_left_paw_x</th><th>back_left_paw_y</th><th>back_left_paw_likelihood</th><th>back_left_thai_x</th><th>back_left_thai_y</th><th>back_left_thai_likelihood</th><th>back_right_thai_x</th><th>back_right_thai_y</th><th>back_right_thai_likelihood</th><th>back_left_knee_x</th><th>back_left_knee_y</th><th>back_left_knee_likelihood</th><th>back_right_knee_x</th><th>back_right_knee_y</th><th>back_right_knee_likelihood</th><th>back_right_paw_x</th><th>back_right_paw_y</th><th>back_right_paw_likelihood</th><th>belly_bottom_x</th><th>belly_bottom_y</th><th>belly_bottom_likelihood</th><th>body_middle_right_x</th><th>body_middle_right_y</th><th>body_middle_right_likelihood</th><th>body_middle_left_x</th><th>body_middle_left_y</th><th>body_middle_left_likelihood</th></tr><tr><td>f32</td><td>f32</td><td>f32</td><td>f32</td><td>f32</td><td>f32</td><td>f32</td><td>f32</td><td>f32</td><td>f32</td><td>f32</td><td>f32</td><td>f32</td><td>f32</td><td>f32</td><td>f32</td><td>f32</td><td>f32</td><td>f32</td><td>f32</td><td>f32</td><td>f32</td><td>f32</td><td>f32</td><td>f32</td><td>f32</td><td>f32</td><td>f32</td><td>f32</td><td>f32</td><td>f32</td><td>f32</td><td>f32</td><td>f32</td><td>f32</td><td>f32</td><td>f32</td><td>&hellip;</td><td>f32</td><td>f32</td><td>f32</td><td>f32</td><td>f32</td><td>f32</td><td>f32</td><td>f32</td><td>f32</td><td>f32</td><td>f32</td><td>f32</td><td>f32</td><td>f32</td><td>f32</td><td>f32</td><td>f32</td><td>f32</td><td>f32</td><td>f32</td><td>f32</td><td>f32</td><td>f32</td><td>f32</td><td>f32</td><td>f32</td><td>f32</td><td>f32</td><td>f32</td><td>f32</td><td>f32</td><td>f32</td><td>f32</td><td>f32</td><td>f32</td><td>f32</td><td>f32</td></tr></thead><tbody><tr><td>190.34375</td><td>4.78125</td><td>0.357366</td><td>171.21875</td><td>4.78125</td><td>0.399968</td><td>190.34375</td><td>23.90625</td><td>0.535817</td><td>190.34375</td><td>4.78125</td><td>0.461428</td><td>190.34375</td><td>14.34375</td><td>0.505818</td><td>219.03125</td><td>4.78125</td><td>0.179249</td><td>285.96875</td><td>14.34375</td><td>0.584802</td><td>324.21875</td><td>23.90625</td><td>0.215253</td><td>285.96875</td><td>14.34375</td><td>0.668526</td><td>553.71875</td><td>368.15625</td><td>0.553569</td><td>238.15625</td><td>4.78125</td><td>0.332158</td><td>285.96875</td><td>14.34375</td><td>0.725044</td><td>333.78125</td><td>&hellip;</td><td>0.894812</td><td>190.34375</td><td>90.84375</td><td>0.810543</td><td>180.78125</td><td>109.96875</td><td>0.809678</td><td>123.40625</td><td>90.84375</td><td>1.0</td><td>477.21875</td><td>568.96875</td><td>1.0</td><td>410.28125</td><td>425.53125</td><td>0.900944</td><td>324.21875</td><td>444.65625</td><td>0.817142</td><td>438.96875</td><td>482.90625</td><td>0.961541</td><td>362.46875</td><td>463.78125</td><td>0.690408</td><td>391.15625</td><td>511.59375</td><td>1.0</td><td>219.03125</td><td>301.21875</td><td>0.349726</td><td>285.96875</td><td>272.53125</td><td>0.366315</td><td>285.96875</td><td>272.53125</td><td>0.364136</td></tr><tr><td>193.007812</td><td>4.765625</td><td>0.299516</td><td>183.492188</td><td>4.765625</td><td>0.42101</td><td>183.492188</td><td>14.296875</td><td>0.634462</td><td>183.492188</td><td>4.765625</td><td>0.447349</td><td>202.523438</td><td>14.296875</td><td>0.673695</td><td>231.070312</td><td>4.765625</td><td>0.151945</td><td>297.679688</td><td>14.296875</td><td>0.64389</td><td>335.742188</td><td>23.828125</td><td>0.313763</td><td>297.679688</td><td>14.296875</td><td>0.72387</td><td>573.632812</td><td>366.953125</td><td>0.520749</td><td>250.101562</td><td>4.765625</td><td>0.420117</td><td>307.195312</td><td>33.359375</td><td>0.72924</td><td>354.773438</td><td>&hellip;</td><td>1.0</td><td>202.523438</td><td>90.546875</td><td>0.84075</td><td>183.492188</td><td>109.609375</td><td>0.844054</td><td>126.398438</td><td>90.546875</td><td>1.0</td><td>478.476562</td><td>567.109375</td><td>1.0</td><td>411.867188</td><td>424.140625</td><td>0.837368</td><td>335.742188</td><td>443.203125</td><td>0.833521</td><td>440.414062</td><td>481.328125</td><td>0.995627</td><td>354.773438</td><td>471.796875</td><td>0.802889</td><td>402.351562</td><td>509.921875</td><td>1.0</td><td>240.585938</td><td>319.296875</td><td>0.602081</td><td>297.679688</td><td>281.171875</td><td>0.440591</td><td>297.679688</td><td>281.171875</td><td>0.437999</td></tr><tr><td>215.460938</td><td>4.796875</td><td>0.344737</td><td>215.460938</td><td>4.796875</td><td>0.52707</td><td>205.882812</td><td>14.390625</td><td>0.74023</td><td>215.460938</td><td>4.796875</td><td>0.557477</td><td>215.460938</td><td>14.390625</td><td>0.675476</td><td>282.507812</td><td>4.796875</td><td>0.256158</td><td>311.242188</td><td>14.390625</td><td>0.639637</td><td>330.398438</td><td>23.984375</td><td>0.477865</td><td>311.242188</td><td>33.578125</td><td>0.705713</td><td>617.742188</td><td>369.359375</td><td>0.51788</td><td>272.929688</td><td>4.796875</td><td>0.645129</td><td>320.820312</td><td>33.578125</td><td>0.764062</td><td>359.132812</td><td>&hellip;</td><td>1.0</td><td>215.460938</td><td>91.140625</td><td>0.702005</td><td>196.304688</td><td>110.328125</td><td>0.825106</td><td>129.257812</td><td>81.546875</td><td>1.0</td><td>483.648438</td><td>570.828125</td><td>1.0</td><td>416.601562</td><td>426.921875</td><td>0.834502</td><td>330.398438</td><td>426.921875</td><td>0.677227</td><td>445.335938</td><td>484.484375</td><td>0.987816</td><td>359.132812</td><td>465.296875</td><td>0.786037</td><td>397.445312</td><td>513.265625</td><td>1.0</td><td>263.351562</td><td>321.390625</td><td>0.816367</td><td>330.398438</td><td>283.015625</td><td>0.470637</td><td>330.398438</td><td>283.015625</td><td>0.467526</td></tr><tr><td>220.828125</td><td>37.539062</td><td>1.0</td><td>220.828125</td><td>37.539062</td><td>1.0</td><td>229.859375</td><td>55.570312</td><td>0.899582</td><td>211.796875</td><td>46.554688</td><td>0.341739</td><td>229.859375</td><td>64.585938</td><td>1.0</td><td>275.015625</td><td>28.523438</td><td>0.304315</td><td>338.234375</td><td>64.585938</td><td>0.418551</td><td>374.359375</td><td>46.554688</td><td>0.239053</td><td>338.234375</td><td>64.585938</td><td>0.523883</td><td>663.359375</td><td>362.101562</td><td>0.519816</td><td>265.984375</td><td>46.554688</td><td>0.93493</td><td>329.203125</td><td>64.585938</td><td>0.942871</td><td>374.359375</td><td>&hellip;</td><td>1.0</td><td>247.921875</td><td>208.835938</td><td>0.503919</td><td>229.859375</td><td>208.835938</td><td>0.346216</td><td>184.703125</td><td>163.757812</td><td>0.455305</td><td>491.765625</td><td>569.460938</td><td>1.0</td><td>419.515625</td><td>425.210938</td><td>0.630864</td><td>383.390625</td><td>434.226562</td><td>0.337258</td><td>464.671875</td><td>488.320312</td><td>0.942498</td><td>374.359375</td><td>461.273438</td><td>0.795941</td><td>401.453125</td><td>515.367188</td><td>1.0</td><td>293.078125</td><td>317.023438</td><td>0.97402</td><td>356.296875</td><td>280.960938</td><td>0.435628</td><td>356.296875</td><td>280.960938</td><td>0.432791</td></tr><tr><td>240.4375</td><td>83.3125</td><td>0.935424</td><td>240.4375</td><td>108.4375</td><td>0.928254</td><td>248.8125</td><td>116.8125</td><td>0.846355</td><td>240.4375</td><td>116.8125</td><td>0.195617</td><td>248.8125</td><td>108.4375</td><td>0.899499</td><td>290.6875</td><td>83.3125</td><td>0.257296</td><td>357.6875</td><td>108.4375</td><td>0.932206</td><td>399.5625</td><td>83.3125</td><td>0.697514</td><td>357.6875</td><td>108.4375</td><td>0.971429</td><td>684.3125</td><td>351.3125</td><td>0.525065</td><td>282.3125</td><td>100.0625</td><td>0.794326</td><td>349.3125</td><td>100.0625</td><td>0.673664</td><td>391.1875</td><td>&hellip;</td><td>0.907492</td><td>282.3125</td><td>259.1875</td><td>0.073892</td><td>273.9375</td><td>259.1875</td><td>0.092452</td><td>232.0625</td><td>242.4375</td><td>0.534562</td><td>491.6875</td><td>569.0625</td><td>1.0</td><td>491.6875</td><td>435.0625</td><td>0.646498</td><td>399.5625</td><td>418.3125</td><td>0.611665</td><td>483.3125</td><td>493.6875</td><td>0.826316</td><td>399.5625</td><td>460.1875</td><td>1.0</td><td>407.9375</td><td>510.4375</td><td>1.0</td><td>340.9375</td><td>342.9375</td><td>0.783148</td><td>399.5625</td><td>326.1875</td><td>0.35012</td><td>399.5625</td><td>326.1875</td><td>0.347916</td></tr><tr><td>&hellip;</td><td>&hellip;</td><td>&hellip;</td><td>&hellip;</td><td>&hellip;</td><td>&hellip;</td><td>&hellip;</td><td>&hellip;</td><td>&hellip;</td><td>&hellip;</td><td>&hellip;</td><td>&hellip;</td><td>&hellip;</td><td>&hellip;</td><td>&hellip;</td><td>&hellip;</td><td>&hellip;</td><td>&hellip;</td><td>&hellip;</td><td>&hellip;</td><td>&hellip;</td><td>&hellip;</td><td>&hellip;</td><td>&hellip;</td><td>&hellip;</td><td>&hellip;</td><td>&hellip;</td><td>&hellip;</td><td>&hellip;</td><td>&hellip;</td><td>&hellip;</td><td>&hellip;</td><td>&hellip;</td><td>&hellip;</td><td>&hellip;</td><td>&hellip;</td><td>&hellip;</td><td>&hellip;</td><td>&hellip;</td><td>&hellip;</td><td>&hellip;</td><td>&hellip;</td><td>&hellip;</td><td>&hellip;</td><td>&hellip;</td><td>&hellip;</td><td>&hellip;</td><td>&hellip;</td><td>&hellip;</td><td>&hellip;</td><td>&hellip;</td><td>&hellip;</td><td>&hellip;</td><td>&hellip;</td><td>&hellip;</td><td>&hellip;</td><td>&hellip;</td><td>&hellip;</td><td>&hellip;</td><td>&hellip;</td><td>&hellip;</td><td>&hellip;</td><td>&hellip;</td><td>&hellip;</td><td>&hellip;</td><td>&hellip;</td><td>&hellip;</td><td>&hellip;</td><td>&hellip;</td><td>&hellip;</td><td>&hellip;</td><td>&hellip;</td><td>&hellip;</td><td>&hellip;</td><td>&hellip;</td></tr><tr><td>413.820312</td><td>480.859375</td><td>1.0</td><td>438.523438</td><td>480.859375</td><td>0.919208</td><td>438.523438</td><td>480.859375</td><td>0.969877</td><td>397.351562</td><td>472.640625</td><td>0.08572</td><td>446.757812</td><td>464.421875</td><td>1.0</td><td>397.351562</td><td>406.890625</td><td>0.266725</td><td>413.820312</td><td>332.921875</td><td>1.0</td><td>413.820312</td><td>300.046875</td><td>1.0</td><td>413.820312</td><td>332.921875</td><td>0.981456</td><td>891.414062</td><td>480.859375</td><td>0.410863</td><td>430.289062</td><td>415.109375</td><td>1.0</td><td>471.460938</td><td>357.578125</td><td>0.902569</td><td>487.929688</td><td>&hellip;</td><td>0.95165</td><td>438.523438</td><td>406.890625</td><td>0.021152</td><td>479.695312</td><td>480.859375</td><td>0.018329</td><td>479.695312</td><td>480.859375</td><td>0.839515</td><td>603.210938</td><td>521.953125</td><td>1.0</td><td>644.382812</td><td>439.765625</td><td>0.813735</td><td>562.039062</td><td>489.078125</td><td>0.013863</td><td>594.976562</td><td>464.421875</td><td>0.813869</td><td>570.273438</td><td>480.859375</td><td>0.347699</td><td>520.867188</td><td>489.078125</td><td>0.886774</td><td>562.039062</td><td>480.859375</td><td>0.739287</td><td>586.742188</td><td>398.671875</td><td>0.495578</td><td>586.742188</td><td>398.671875</td><td>0.512986</td></tr><tr><td>413.335938</td><td>499.65625</td><td>1.0</td><td>429.929688</td><td>499.65625</td><td>0.930146</td><td>438.226562</td><td>499.65625</td><td>0.850652</td><td>405.039062</td><td>474.71875</td><td>0.081954</td><td>454.820312</td><td>491.34375</td><td>1.0</td><td>388.445312</td><td>433.15625</td><td>0.46385</td><td>421.632812</td><td>350.03125</td><td>0.96873</td><td>405.039062</td><td>316.78125</td><td>1.0</td><td>421.632812</td><td>350.03125</td><td>0.945387</td><td>894.554688</td><td>474.71875</td><td>0.407242</td><td>438.226562</td><td>441.46875</td><td>1.0</td><td>471.414062</td><td>374.96875</td><td>0.957285</td><td>488.007812</td><td>&hellip;</td><td>0.905201</td><td>438.226562</td><td>424.84375</td><td>0.029489</td><td>479.710938</td><td>491.34375</td><td>0.021186</td><td>479.710938</td><td>491.34375</td><td>1.0</td><td>595.867188</td><td>524.59375</td><td>1.0</td><td>629.054688</td><td>441.46875</td><td>0.719312</td><td>687.132812</td><td>458.09375</td><td>0.012233</td><td>587.570312</td><td>483.03125</td><td>0.84472</td><td>562.679688</td><td>499.65625</td><td>0.178152</td><td>604.164062</td><td>491.34375</td><td>0.224515</td><td>562.679688</td><td>491.34375</td><td>0.854986</td><td>587.570312</td><td>408.21875</td><td>0.444037</td><td>587.570312</td><td>408.21875</td><td>0.469534</td></tr><tr><td>399.367188</td><td>498.820312</td><td>1.0</td><td>424.539062</td><td>498.820312</td><td>0.838098</td><td>432.929688</td><td>498.820312</td><td>0.867662</td><td>382.585938</td><td>490.429688</td><td>0.075356</td><td>432.929688</td><td>490.429688</td><td>0.974236</td><td>399.367188</td><td>440.085938</td><td>0.41711</td><td>416.148438</td><td>364.570312</td><td>1.0</td><td>407.757812</td><td>322.617188</td><td>1.0</td><td>416.148438</td><td>364.570312</td><td>1.0</td><td>894.414062</td><td>465.257812</td><td>0.35702</td><td>432.929688</td><td>440.085938</td><td>1.0</td><td>466.492188</td><td>389.742188</td><td>0.961359</td><td>491.664062</td><td>&hellip;</td><td>1.0</td><td>491.664062</td><td>465.257812</td><td>0.019258</td><td>466.492188</td><td>490.429688</td><td>0.022192</td><td>466.492188</td><td>490.429688</td><td>1.0</td><td>592.351562</td><td>523.992188</td><td>1.0</td><td>642.695312</td><td>440.085938</td><td>0.821095</td><td>684.648438</td><td>456.867188</td><td>0.011755</td><td>592.351562</td><td>473.648438</td><td>0.833303</td><td>567.179688</td><td>498.820312</td><td>0.123333</td><td>567.179688</td><td>507.210938</td><td>0.210021</td><td>558.789062</td><td>490.429688</td><td>0.908507</td><td>583.960938</td><td>414.914062</td><td>0.467244</td><td>583.960938</td><td>414.914062</td><td>0.493457</td></tr><tr><td>393.421875</td><td>498.453125</td><td>1.0</td><td>418.640625</td><td>498.453125</td><td>0.905593</td><td>427.046875</td><td>498.453125</td><td>0.879465</td><td>401.828125</td><td>473.234375</td><td>0.098501</td><td>443.859375</td><td>481.640625</td><td>0.999548</td><td>393.421875</td><td>431.203125</td><td>0.343884</td><td>410.234375</td><td>355.546875</td><td>1.0</td><td>410.234375</td><td>321.921875</td><td>1.0</td><td>410.234375</td><td>355.546875</td><td>0.997109</td><td>889.390625</td><td>464.828125</td><td>0.378652</td><td>435.453125</td><td>439.609375</td><td>1.0</td><td>477.484375</td><td>380.765625</td><td>0.877808</td><td>494.296875</td><td>&hellip;</td><td>1.0</td><td>393.421875</td><td>439.609375</td><td>0.031287</td><td>460.671875</td><td>490.046875</td><td>0.021728</td><td>460.671875</td><td>490.046875</td><td>1.0</td><td>586.765625</td><td>523.671875</td><td>1.0</td><td>645.609375</td><td>439.609375</td><td>0.884899</td><td>696.046875</td><td>456.421875</td><td>0.011233</td><td>586.765625</td><td>481.640625</td><td>0.762989</td><td>561.546875</td><td>498.453125</td><td>0.125271</td><td>603.578125</td><td>490.046875</td><td>0.244826</td><td>569.953125</td><td>490.046875</td><td>0.862775</td><td>586.765625</td><td>405.984375</td><td>0.501618</td><td>586.765625</td><td>405.984375</td><td>0.532242</td></tr><tr><td>395.257812</td><td>491.195312</td><td>1.0</td><td>420.335938</td><td>499.554688</td><td>0.949085</td><td>428.695312</td><td>499.554688</td><td>0.83621</td><td>403.617188</td><td>474.476562</td><td>0.093708</td><td>445.414062</td><td>482.835938</td><td>1.0</td><td>395.257812</td><td>432.679688</td><td>0.375969</td><td>420.335938</td><td>357.445312</td><td>1.0</td><td>411.976562</td><td>324.007812</td><td>1.0</td><td>420.335938</td><td>357.445312</td><td>0.977788</td><td>888.460938</td><td>466.117188</td><td>0.397777</td><td>437.054688</td><td>432.679688</td><td>1.0</td><td>478.851562</td><td>374.164062</td><td>0.902208</td><td>495.570312</td><td>&hellip;</td><td>1.0</td><td>487.210938</td><td>466.117188</td><td>0.01926</td><td>462.132812</td><td>491.195312</td><td>0.021975</td><td>462.132812</td><td>491.195312</td><td>1.0</td><td>604.242188</td><td>524.632812</td><td>0.999407</td><td>646.039062</td><td>441.039062</td><td>0.891105</td><td>696.195312</td><td>457.757812</td><td>0.010718</td><td>604.242188</td><td>474.476562</td><td>0.747001</td><td>562.445312</td><td>499.554688</td><td>0.122196</td><td>604.242188</td><td>491.195312</td><td>0.229465</td><td>570.804688</td><td>491.195312</td><td>0.872474</td><td>595.882812</td><td>407.601562</td><td>0.505638</td><td>595.882812</td><td>407.601562</td><td>0.538731</td></tr></tbody></table></div>"
      ],
      "text/plain": [
       "shape: (18_019, 117)\n",
       "┌───────────┬───────────┬───────────┬───────────┬───┬───────────┬───────────┬───────────┬──────────┐\n",
       "│ nose_x    ┆ nose_y    ┆ nose_like ┆ upper_jaw ┆ … ┆ body_midd ┆ body_midd ┆ body_midd ┆ body_mid │\n",
       "│ ---       ┆ ---       ┆ lihood    ┆ _x        ┆   ┆ le_right_ ┆ le_left_x ┆ le_left_y ┆ dle_left │\n",
       "│ f32       ┆ f32       ┆ ---       ┆ ---       ┆   ┆ likelihoo ┆ ---       ┆ ---       ┆ _likelih │\n",
       "│           ┆           ┆ f32       ┆ f32       ┆   ┆ d         ┆ f32       ┆ f32       ┆ ood      │\n",
       "│           ┆           ┆           ┆           ┆   ┆ ---       ┆           ┆           ┆ ---      │\n",
       "│           ┆           ┆           ┆           ┆   ┆ f32       ┆           ┆           ┆ f32      │\n",
       "╞═══════════╪═══════════╪═══════════╪═══════════╪═══╪═══════════╪═══════════╪═══════════╪══════════╡\n",
       "│ 190.34375 ┆ 4.78125   ┆ 0.357366  ┆ 171.21875 ┆ … ┆ 0.366315  ┆ 285.96875 ┆ 272.53125 ┆ 0.364136 │\n",
       "│ 193.00781 ┆ 4.765625  ┆ 0.299516  ┆ 183.49218 ┆ … ┆ 0.440591  ┆ 297.67968 ┆ 281.17187 ┆ 0.437999 │\n",
       "│ 2         ┆           ┆           ┆ 8         ┆   ┆           ┆ 8         ┆ 5         ┆          │\n",
       "│ 215.46093 ┆ 4.796875  ┆ 0.344737  ┆ 215.46093 ┆ … ┆ 0.470637  ┆ 330.39843 ┆ 283.01562 ┆ 0.467526 │\n",
       "│ 8         ┆           ┆           ┆ 8         ┆   ┆           ┆ 8         ┆ 5         ┆          │\n",
       "│ 220.82812 ┆ 37.539062 ┆ 1.0       ┆ 220.82812 ┆ … ┆ 0.435628  ┆ 356.29687 ┆ 280.96093 ┆ 0.432791 │\n",
       "│ 5         ┆           ┆           ┆ 5         ┆   ┆           ┆ 5         ┆ 8         ┆          │\n",
       "│ 240.4375  ┆ 83.3125   ┆ 0.935424  ┆ 240.4375  ┆ … ┆ 0.35012   ┆ 399.5625  ┆ 326.1875  ┆ 0.347916 │\n",
       "│ …         ┆ …         ┆ …         ┆ …         ┆ … ┆ …         ┆ …         ┆ …         ┆ …        │\n",
       "│ 413.82031 ┆ 480.85937 ┆ 1.0       ┆ 438.52343 ┆ … ┆ 0.495578  ┆ 586.74218 ┆ 398.67187 ┆ 0.512986 │\n",
       "│ 2         ┆ 5         ┆           ┆ 8         ┆   ┆           ┆ 8         ┆ 5         ┆          │\n",
       "│ 413.33593 ┆ 499.65625 ┆ 1.0       ┆ 429.92968 ┆ … ┆ 0.444037  ┆ 587.57031 ┆ 408.21875 ┆ 0.469534 │\n",
       "│ 8         ┆           ┆           ┆ 8         ┆   ┆           ┆ 2         ┆           ┆          │\n",
       "│ 399.36718 ┆ 498.82031 ┆ 1.0       ┆ 424.53906 ┆ … ┆ 0.467244  ┆ 583.96093 ┆ 414.91406 ┆ 0.493457 │\n",
       "│ 8         ┆ 2         ┆           ┆ 2         ┆   ┆           ┆ 8         ┆ 2         ┆          │\n",
       "│ 393.42187 ┆ 498.45312 ┆ 1.0       ┆ 418.64062 ┆ … ┆ 0.501618  ┆ 586.76562 ┆ 405.98437 ┆ 0.532242 │\n",
       "│ 5         ┆ 5         ┆           ┆ 5         ┆   ┆           ┆ 5         ┆ 5         ┆          │\n",
       "│ 395.25781 ┆ 491.19531 ┆ 1.0       ┆ 420.33593 ┆ … ┆ 0.505638  ┆ 595.88281 ┆ 407.60156 ┆ 0.538731 │\n",
       "│ 2         ┆ 2         ┆           ┆ 8         ┆   ┆           ┆ 2         ┆ 2         ┆          │\n",
       "└───────────┴───────────┴───────────┴───────────┴───┴───────────┴───────────┴───────────┴──────────┘"
      ]
     },
     "execution_count": 14,
     "metadata": {},
     "output_type": "execute_result"
    }
   ],
   "source": [
    "video_data[\"original_dlc_data\"]"
   ]
  }
 ],
 "metadata": {
  "kernelspec": {
   "display_name": "base",
   "language": "python",
   "name": "python3"
  },
  "language_info": {
   "codemirror_mode": {
    "name": "ipython",
    "version": 3
   },
   "file_extension": ".py",
   "mimetype": "text/x-python",
   "name": "python",
   "nbconvert_exporter": "python",
   "pygments_lexer": "ipython3",
   "version": "3.12.10"
  }
 },
 "nbformat": 4,
 "nbformat_minor": 5
}
