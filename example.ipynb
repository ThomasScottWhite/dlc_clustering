{
 "cells": [
  {
   "cell_type": "code",
   "execution_count": 1,
   "id": "7907fbea",
   "metadata": {},
   "outputs": [],
   "source": [
    "from dlc_clustering.projects import Project\n",
    "from dlc_clustering.clustering import PCAKMeansBoutStrategy"
   ]
  },
  {
   "cell_type": "code",
   "execution_count": 2,
   "id": "78a05806",
   "metadata": {},
   "outputs": [],
   "source": [
    "from dlc_clustering.data_processing import CentroidDiffStrategy, VelocityStrategy"
   ]
  },
  {
   "cell_type": "code",
   "execution_count": null,
   "id": "0c0040f3",
   "metadata": {},
   "outputs": [],
   "source": [
    "data_processing_strategies = []\n",
    "data_processing_strategies.append(CentroidDiffStrategy())\n",
    "data_processing_strategies.append(VelocityStrategy())\n",
    "\n",
    "clustering_strategy=PCAKMeansBoutStrategy(stride=5)\n"
   ]
  },
  {
   "cell_type": "code",
   "execution_count": null,
   "id": "6fd8d590",
   "metadata": {},
   "outputs": [],
   "source": [
    "project_path = \"/home/thomas/Documents/dlc_clustering/data/preprocessed/hugo_project\"\n",
    "project = Project(\"Hugo_Project\", project_path, data_processing_strategies, clustering_strategy)\n",
    "project.process_data()\n",
    "project.cluster_data()\n"
   ]
  },
  {
   "cell_type": "code",
   "execution_count": 7,
   "id": "61999eac",
   "metadata": {},
   "outputs": [
    {
     "data": {
      "text/html": [
       "<div><style>\n",
       ".dataframe > thead > tr,\n",
       ".dataframe > tbody > tr {\n",
       "  text-align: right;\n",
       "  white-space: pre-wrap;\n",
       "}\n",
       "</style>\n",
       "<small>shape: (18_019, 119)</small><table border=\"1\" class=\"dataframe\"><thead><tr><th>nose_x</th><th>nose_y</th><th>upper_jaw_x</th><th>upper_jaw_y</th><th>lower_jaw_x</th><th>lower_jaw_y</th><th>mouth_end_right_x</th><th>mouth_end_right_y</th><th>mouth_end_left_x</th><th>mouth_end_left_y</th><th>right_eye_x</th><th>right_eye_y</th><th>right_earbase_x</th><th>right_earbase_y</th><th>right_earend_x</th><th>right_earend_y</th><th>right_antler_base_x</th><th>right_antler_base_y</th><th>right_antler_end_x</th><th>right_antler_end_y</th><th>left_eye_x</th><th>left_eye_y</th><th>left_earbase_x</th><th>left_earbase_y</th><th>left_earend_x</th><th>left_earend_y</th><th>left_antler_base_x</th><th>left_antler_base_y</th><th>left_antler_end_x</th><th>left_antler_end_y</th><th>neck_base_x</th><th>neck_base_y</th><th>neck_end_x</th><th>neck_end_y</th><th>throat_base_x</th><th>throat_base_y</th><th>throat_end_x</th><th>&hellip;</th><th>mouth_end_left_velocity</th><th>back_base_velocity</th><th>back_right_thai_velocity</th><th>back_middle_velocity</th><th>right_antler_base_velocity</th><th>nose_velocity</th><th>lower_jaw_velocity</th><th>right_earend_velocity</th><th>throat_end_velocity</th><th>tail_end_velocity</th><th>tail_base_velocity</th><th>back_end_velocity</th><th>upper_jaw_velocity</th><th>front_right_thai_velocity</th><th>left_earbase_velocity</th><th>belly_bottom_velocity</th><th>front_right_paw_velocity</th><th>neck_end_velocity</th><th>left_antler_base_velocity</th><th>body_middle_right_velocity</th><th>back_left_paw_velocity</th><th>back_right_paw_velocity</th><th>front_left_thai_velocity</th><th>left_earend_velocity</th><th>back_left_thai_velocity</th><th>front_left_paw_velocity</th><th>left_antler_end_velocity</th><th>body_middle_left_velocity</th><th>front_left_knee_velocity</th><th>right_antler_end_velocity</th><th>back_right_knee_velocity</th><th>mouth_end_right_velocity</th><th>right_earbase_velocity</th><th>front_right_knee_velocity</th><th>neck_base_velocity</th><th>cluster</th><th>bout_id</th></tr><tr><td>f32</td><td>f32</td><td>f32</td><td>f32</td><td>f32</td><td>f32</td><td>f32</td><td>f32</td><td>f32</td><td>f32</td><td>f32</td><td>f32</td><td>f32</td><td>f32</td><td>f32</td><td>f32</td><td>f32</td><td>f32</td><td>f32</td><td>f32</td><td>f32</td><td>f32</td><td>f32</td><td>f32</td><td>f32</td><td>f32</td><td>f32</td><td>f32</td><td>f32</td><td>f32</td><td>f32</td><td>f32</td><td>f32</td><td>f32</td><td>f32</td><td>f32</td><td>f32</td><td>&hellip;</td><td>f32</td><td>f32</td><td>f32</td><td>f32</td><td>f32</td><td>f32</td><td>f32</td><td>f32</td><td>f32</td><td>f32</td><td>f32</td><td>f32</td><td>f32</td><td>f32</td><td>f32</td><td>f32</td><td>f32</td><td>f32</td><td>f32</td><td>f32</td><td>f32</td><td>f32</td><td>f32</td><td>f32</td><td>f32</td><td>f32</td><td>f32</td><td>f32</td><td>f32</td><td>f32</td><td>f32</td><td>f32</td><td>f32</td><td>f32</td><td>f32</td><td>i32</td><td>i64</td></tr></thead><tbody><tr><td>-112.052887</td><td>-176.783661</td><td>-131.177887</td><td>-176.783661</td><td>-112.052887</td><td>-157.658661</td><td>-112.052887</td><td>-176.783661</td><td>-112.052887</td><td>-167.221161</td><td>-83.365387</td><td>-176.783661</td><td>-16.427887</td><td>-167.221161</td><td>21.822113</td><td>-157.658661</td><td>-16.427887</td><td>-167.221161</td><td>251.322113</td><td>186.591339</td><td>-64.240387</td><td>-176.783661</td><td>-16.427887</td><td>-167.221161</td><td>31.384613</td><td>-157.658661</td><td>-16.427887</td><td>-167.221161</td><td>251.322113</td><td>186.591339</td><td>2.697113</td><td>-128.971161</td><td>12.259613</td><td>-90.721161</td><td>-83.365387</td><td>-128.971161</td><td>-92.927887</td><td>&hellip;</td><td>12.179778</td><td>28.227034</td><td>11.614697</td><td>11.504195</td><td>11.711031</td><td>2.664108</td><td>11.801864</td><td>11.523703</td><td>22.373381</td><td>19.950373</td><td>11.030224</td><td>11.030224</td><td>12.273447</td><td>12.183305</td><td>28.498438</td><td>28.132244</td><td>3.006879</td><td>28.227034</td><td>11.711031</td><td>14.553572</td><td>2.244853</td><td>11.319461</td><td>9.411612</td><td>20.992332</td><td>2.109274</td><td>9.474257</td><td>19.950373</td><td>14.553572</td><td>23.364204</td><td>19.950373</td><td>11.111619</td><td>6.85158</td><td>11.711031</td><td>2.734654</td><td>11.618459</td><td>3</td><td>0</td></tr><tr><td>-119.31131</td><td>-179.871796</td><td>-128.826935</td><td>-179.871796</td><td>-128.826935</td><td>-170.340546</td><td>-128.826935</td><td>-179.871796</td><td>-109.795685</td><td>-170.340546</td><td>-81.24881</td><td>-179.871796</td><td>-14.639435</td><td>-170.340546</td><td>23.423065</td><td>-160.809296</td><td>-14.639435</td><td>-170.340546</td><td>261.31369</td><td>182.315704</td><td>-62.21756</td><td>-179.871796</td><td>-5.12381</td><td>-151.278046</td><td>42.454315</td><td>-160.809296</td><td>-14.639435</td><td>-170.340546</td><td>261.31369</td><td>182.315704</td><td>4.391815</td><td>-132.215546</td><td>23.423065</td><td>-75.028046</td><td>-100.28006</td><td>-132.215546</td><td>-90.764435</td><td>&hellip;</td><td>12.179778</td><td>28.227034</td><td>11.614697</td><td>11.504195</td><td>11.711031</td><td>2.664108</td><td>11.801864</td><td>11.523703</td><td>22.373381</td><td>19.950373</td><td>11.030224</td><td>11.030224</td><td>12.273447</td><td>12.183305</td><td>28.498438</td><td>28.132244</td><td>3.006879</td><td>28.227034</td><td>11.711031</td><td>14.553572</td><td>2.244853</td><td>11.319461</td><td>9.411612</td><td>20.992332</td><td>2.109274</td><td>9.474257</td><td>19.950373</td><td>14.553572</td><td>23.364204</td><td>19.950373</td><td>11.111619</td><td>6.85158</td><td>11.711031</td><td>2.734654</td><td>11.618459</td><td>3</td><td>0</td></tr><tr><td>-112.481567</td><td>-182.035263</td><td>-112.481567</td><td>-182.035263</td><td>-122.059692</td><td>-172.441513</td><td>-112.481567</td><td>-182.035263</td><td>-112.481567</td><td>-172.441513</td><td>-45.434692</td><td>-182.035263</td><td>-16.700317</td><td>-172.441513</td><td>2.455933</td><td>-162.847763</td><td>-16.700317</td><td>-153.254013</td><td>289.799683</td><td>182.527237</td><td>-55.012817</td><td>-182.035263</td><td>-7.122192</td><td>-153.254013</td><td>31.190308</td><td>-153.254013</td><td>-7.122192</td><td>-153.254013</td><td>289.799683</td><td>182.527237</td><td>2.455933</td><td>-114.879013</td><td>12.034058</td><td>-76.504013</td><td>-102.903442</td><td>-134.066513</td><td>-93.325317</td><td>&hellip;</td><td>12.93784</td><td>13.831188</td><td>17.135775</td><td>23.507214</td><td>23.57346</td><td>22.453146</td><td>22.390821</td><td>5.346034</td><td>13.075988</td><td>44.174957</td><td>14.770279</td><td>14.770279</td><td>31.968765</td><td>12.951118</td><td>13.626756</td><td>22.861704</td><td>9.443306</td><td>4.294943</td><td>30.120676</td><td>32.770657</td><td>6.370039</td><td>5.937335</td><td>11.128171</td><td>10.680199</td><td>5.49087</td><td>6.417292</td><td>44.174957</td><td>32.770657</td><td>15.585301</td><td>44.174957</td><td>7.826503</td><td>31.968765</td><td>13.562824</td><td>12.832644</td><td>23.849894</td><td>3</td><td>0</td></tr><tr><td>-127.595367</td><td>-174.070908</td><td>-127.595367</td><td>-174.070908</td><td>-118.564117</td><td>-156.039658</td><td>-136.626617</td><td>-165.055283</td><td>-118.564117</td><td>-147.024033</td><td>-73.407867</td><td>-183.086533</td><td>-10.189117</td><td>-147.024033</td><td>25.935883</td><td>-165.055283</td><td>-10.189117</td><td>-147.024033</td><td>314.935883</td><td>150.491592</td><td>-82.439117</td><td>-165.055283</td><td>-19.220367</td><td>-147.024033</td><td>25.935883</td><td>-165.055283</td><td>-19.220367</td><td>-147.024033</td><td>314.935883</td><td>150.491592</td><td>-10.189117</td><td>-110.961533</td><td>7.873383</td><td>-65.883408</td><td>-109.532867</td><td>-110.961533</td><td>-100.501617</td><td>&hellip;</td><td>52.219578</td><td>36.034794</td><td>53.493275</td><td>23.712339</td><td>41.110371</td><td>33.179173</td><td>47.651257</td><td>49.416424</td><td>38.900639</td><td>46.190945</td><td>45.986618</td><td>45.986618</td><td>33.179173</td><td>122.089714</td><td>32.12096</td><td>30.045647</td><td>99.160576</td><td>38.979507</td><td>32.12096</td><td>25.979815</td><td>8.231521</td><td>4.525387</td><td>25.072018</td><td>20.005983</td><td>3.379211</td><td>8.119927</td><td>46.190945</td><td>25.979815</td><td>14.454962</td><td>46.190945</td><td>15.749166</td><td>41.918255</td><td>56.992519</td><td>104.065872</td><td>29.745972</td><td>3</td><td>0</td></tr><tr><td>-134.214752</td><td>-162.346161</td><td>-134.214752</td><td>-137.221161</td><td>-125.839752</td><td>-128.846161</td><td>-134.214752</td><td>-128.846161</td><td>-125.839752</td><td>-137.221161</td><td>-83.964752</td><td>-162.346161</td><td>-16.964752</td><td>-137.221161</td><td>24.910248</td><td>-162.346161</td><td>-16.964752</td><td>-137.221161</td><td>309.660248</td><td>105.653839</td><td>-92.339752</td><td>-145.596161</td><td>-25.339752</td><td>-145.596161</td><td>16.535248</td><td>-162.346161</td><td>-25.339752</td><td>-145.596161</td><td>309.660248</td><td>105.653839</td><td>-42.089752</td><td>-128.846161</td><td>8.160248</td><td>-61.846161</td><td>-109.089752</td><td>-103.721161</td><td>-100.714752</td><td>&hellip;</td><td>47.772171</td><td>46.407078</td><td>22.688917</td><td>39.430069</td><td>47.972736</td><td>49.79694</td><td>64.107925</td><td>44.56831</td><td>54.370296</td><td>23.567719</td><td>50.751717</td><td>50.751717</td><td>73.560287</td><td>60.975365</td><td>40.779572</td><td>54.424797</td><td>91.833565</td><td>46.407078</td><td>40.779572</td><td>62.588787</td><td>0.406025</td><td>8.145486</td><td>47.222454</td><td>40.426754</td><td>72.841148</td><td>107.684334</td><td>23.567719</td><td>62.588787</td><td>78.555916</td><td>23.567719</td><td>25.226509</td><td>75.871239</td><td>47.972736</td><td>66.919067</td><td>17.130297</td><td>3</td><td>0</td></tr><tr><td>&hellip;</td><td>&hellip;</td><td>&hellip;</td><td>&hellip;</td><td>&hellip;</td><td>&hellip;</td><td>&hellip;</td><td>&hellip;</td><td>&hellip;</td><td>&hellip;</td><td>&hellip;</td><td>&hellip;</td><td>&hellip;</td><td>&hellip;</td><td>&hellip;</td><td>&hellip;</td><td>&hellip;</td><td>&hellip;</td><td>&hellip;</td><td>&hellip;</td><td>&hellip;</td><td>&hellip;</td><td>&hellip;</td><td>&hellip;</td><td>&hellip;</td><td>&hellip;</td><td>&hellip;</td><td>&hellip;</td><td>&hellip;</td><td>&hellip;</td><td>&hellip;</td><td>&hellip;</td><td>&hellip;</td><td>&hellip;</td><td>&hellip;</td><td>&hellip;</td><td>&hellip;</td><td>&hellip;</td><td>&hellip;</td><td>&hellip;</td><td>&hellip;</td><td>&hellip;</td><td>&hellip;</td><td>&hellip;</td><td>&hellip;</td><td>&hellip;</td><td>&hellip;</td><td>&hellip;</td><td>&hellip;</td><td>&hellip;</td><td>&hellip;</td><td>&hellip;</td><td>&hellip;</td><td>&hellip;</td><td>&hellip;</td><td>&hellip;</td><td>&hellip;</td><td>&hellip;</td><td>&hellip;</td><td>&hellip;</td><td>&hellip;</td><td>&hellip;</td><td>&hellip;</td><td>&hellip;</td><td>&hellip;</td><td>&hellip;</td><td>&hellip;</td><td>&hellip;</td><td>&hellip;</td><td>&hellip;</td><td>&hellip;</td><td>&hellip;</td><td>&hellip;</td><td>&hellip;</td><td>&hellip;</td></tr><tr><td>-123.937927</td><td>54.791656</td><td>-99.234802</td><td>54.791656</td><td>-99.234802</td><td>54.791656</td><td>-140.406677</td><td>46.572906</td><td>-91.000427</td><td>38.354156</td><td>-140.406677</td><td>-19.177094</td><td>-123.937927</td><td>-93.145844</td><td>-123.937927</td><td>-126.020844</td><td>-123.937927</td><td>-93.145844</td><td>353.655823</td><td>54.791656</td><td>-107.469177</td><td>-10.958344</td><td>-66.297302</td><td>-68.489594</td><td>-49.828552</td><td>-109.583344</td><td>-66.297302</td><td>-68.489594</td><td>353.655823</td><td>54.791656</td><td>-82.766052</td><td>-93.145844</td><td>-16.891052</td><td>-109.583344</td><td>-66.297302</td><td>21.916656</td><td>-49.828552</td><td>&hellip;</td><td>16.07815</td><td>12.547578</td><td>7.170875</td><td>8.786743</td><td>19.096416</td><td>24.159718</td><td>24.122826</td><td>18.932035</td><td>17.187473</td><td>4.8046875</td><td>10.20851</td><td>10.20851</td><td>30.570768</td><td>28.580843</td><td>18.984442</td><td>10.867872</td><td>18.542019</td><td>12.547578</td><td>18.984442</td><td>12.116452</td><td>1.785374</td><td>1.519104</td><td>8.317525</td><td>19.730577</td><td>8.062504</td><td>11.910875</td><td>4.8046875</td><td>12.116452</td><td>7.606764</td><td>4.8046875</td><td>11.243111</td><td>24.327188</td><td>19.096416</td><td>18.542019</td><td>18.298178</td><td>3</td><td>3600</td></tr><tr><td>-127.856995</td><td>63.729156</td><td>-111.263245</td><td>63.729156</td><td>-102.96637</td><td>63.729156</td><td>-136.15387</td><td>38.791656</td><td>-86.37262</td><td>55.416656</td><td>-152.74762</td><td>-2.770844</td><td>-119.56012</td><td>-85.895844</td><td>-136.15387</td><td>-119.145844</td><td>-119.56012</td><td>-85.895844</td><td>353.361755</td><td>38.791656</td><td>-102.96637</td><td>5.541656</td><td>-69.77887</td><td>-60.958344</td><td>-53.18512</td><td>-110.833344</td><td>-69.77887</td><td>-60.958344</td><td>353.361755</td><td>38.791656</td><td>-94.669495</td><td>-85.895844</td><td>-28.294495</td><td>-110.833344</td><td>-69.77887</td><td>22.166656</td><td>-44.888245</td><td>&hellip;</td><td>28.103226</td><td>11.731254</td><td>128.873886</td><td>11.215192</td><td>18.808664</td><td>18.803114</td><td>18.799219</td><td>18.898403</td><td>13.127836</td><td>6.897159</td><td>6.919547</td><td>6.919547</td><td>20.668213</td><td>17.95558</td><td>17.390688</td><td>10.503929</td><td>10.484386</td><td>11.731254</td><td>17.390688</td><td>9.582725</td><td>7.804074</td><td>83.327675</td><td>1.581911</td><td>8.60973</td><td>15.422453</td><td>19.404375</td><td>6.897159</td><td>9.582725</td><td>12.906335</td><td>6.897159</td><td>20.272827</td><td>7.963433</td><td>18.808664</td><td>10.484386</td><td>19.090586</td><td>-1</td><td>-1</td></tr><tr><td>-139.84375</td><td>58.304077</td><td>-114.671875</td><td>58.304077</td><td>-106.28125</td><td>58.304077</td><td>-156.625</td><td>49.913452</td><td>-106.28125</td><td>49.913452</td><td>-139.84375</td><td>-0.430298</td><td>-123.0625</td><td>-75.945923</td><td>-131.453125</td><td>-117.899048</td><td>-123.0625</td><td>-75.945923</td><td>355.203125</td><td>24.741577</td><td>-106.28125</td><td>-0.430298</td><td>-72.71875</td><td>-50.774048</td><td>-47.546875</td><td>-101.117798</td><td>-72.71875</td><td>-50.774048</td><td>355.203125</td><td>24.741577</td><td>-89.5</td><td>-84.336548</td><td>-22.375</td><td>-109.508423</td><td>-55.9375</td><td>24.741577</td><td>-47.546875</td><td>&hellip;</td><td>21.9097</td><td>7.104931</td><td>2.770663</td><td>6.795586</td><td>15.53907</td><td>13.99374</td><td>5.362432</td><td>6.438149</td><td>8.53576</td><td>9.461983</td><td>2.770663</td><td>2.770663</td><td>5.455055</td><td>66.998978</td><td>15.571747</td><td>3.996558</td><td>13.250316</td><td>7.104931</td><td>15.571747</td><td>7.606234</td><td>3.566721</td><td>40.244396</td><td>15.81525</td><td>14.764561</td><td>13.710537</td><td>15.02373</td><td>9.461983</td><td>7.606234</td><td>4.352404</td><td>9.461983</td><td>4.576985</td><td>27.403948</td><td>15.53907</td><td>13.250316</td><td>6.925564</td><td>-1</td><td>-1</td></tr><tr><td>-145.061707</td><td>61.645844</td><td>-119.842957</td><td>61.645844</td><td>-111.436707</td><td>61.645844</td><td>-136.655457</td><td>36.427094</td><td>-94.624207</td><td>44.833344</td><td>-145.061707</td><td>-5.604156</td><td>-128.249207</td><td>-81.260406</td><td>-128.249207</td><td>-114.885406</td><td>-128.249207</td><td>-81.260406</td><td>350.907043</td><td>28.020844</td><td>-103.030457</td><td>2.802094</td><td>-60.999207</td><td>-56.041656</td><td>-44.186707</td><td>-98.072906</td><td>-60.999207</td><td>-56.041656</td><td>350.907043</td><td>28.020844</td><td>-86.217957</td><td>-81.260406</td><td>-10.561707</td><td>-106.479156</td><td>-60.999207</td><td>19.614594</td><td>-52.592957</td><td>&hellip;</td><td>14.025181</td><td>11.106754</td><td>11.407133</td><td>5.646498</td><td>10.788816</td><td>5.956641</td><td>5.894261</td><td>2.572318</td><td>5.789405</td><td>5.041781</td><td>11.407133</td><td>11.407133</td><td>5.909855</td><td>101.535065</td><td>14.191789</td><td>11.170624</td><td>5.832888</td><td>11.106754</td><td>14.191789</td><td>9.359786</td><td>5.595114</td><td>40.242405</td><td>2.767897</td><td>2.715268</td><td>2.952774</td><td>5.800696</td><td>5.041781</td><td>9.359786</td><td>5.694761</td><td>5.041781</td><td>5.644768</td><td>25.805824</td><td>10.788816</td><td>5.832888</td><td>2.631897</td><td>-1</td><td>-1</td></tr><tr><td>-148.754028</td><td>54.014435</td><td>-123.675903</td><td>62.37381</td><td>-115.316528</td><td>62.37381</td><td>-140.394653</td><td>37.295685</td><td>-98.597778</td><td>45.65506</td><td>-148.754028</td><td>-4.50119</td><td>-123.675903</td><td>-79.735565</td><td>-132.035278</td><td>-113.173065</td><td>-123.675903</td><td>-79.735565</td><td>344.449097</td><td>28.93631</td><td>-106.957153</td><td>-4.50119</td><td>-65.160278</td><td>-63.016815</td><td>-48.441528</td><td>-104.81369</td><td>-65.160278</td><td>-63.016815</td><td>344.449097</td><td>28.93631</td><td>-81.879028</td><td>-88.09494</td><td>-15.004028</td><td>-104.81369</td><td>-65.160278</td><td>20.576935</td><td>-48.441528</td><td>&hellip;</td><td>1.961078</td><td>6.412925</td><td>1.344159</td><td>2.279564</td><td>10.278406</td><td>7.486422</td><td>1.982621</td><td>2.717784</td><td>9.765143</td><td>1.58934</td><td>1.344159</td><td>1.344159</td><td>2.021763</td><td>97.463081</td><td>6.741649</td><td>1.429709</td><td>1.858291</td><td>2.310203</td><td>6.741649</td><td>9.259503</td><td>17.50296</td><td>1.326608</td><td>1.740242</td><td>6.493283</td><td>1.492862</td><td>1.755745</td><td>1.58934</td><td>9.259503</td><td>1.619469</td><td>1.58934</td><td>1.421489</td><td>2.178021</td><td>10.278406</td><td>1.858291</td><td>11.794283</td><td>-1</td><td>-1</td></tr></tbody></table></div>"
      ],
      "text/plain": [
       "shape: (18_019, 119)\n",
       "┌────────────┬────────────┬────────────┬───────────┬───┬───────────┬───────────┬─────────┬─────────┐\n",
       "│ nose_x     ┆ nose_y     ┆ upper_jaw_ ┆ upper_jaw ┆ … ┆ front_rig ┆ neck_base ┆ cluster ┆ bout_id │\n",
       "│ ---        ┆ ---        ┆ x          ┆ _y        ┆   ┆ ht_knee_v ┆ _velocity ┆ ---     ┆ ---     │\n",
       "│ f32        ┆ f32        ┆ ---        ┆ ---       ┆   ┆ elocity   ┆ ---       ┆ i32     ┆ i64     │\n",
       "│            ┆            ┆ f32        ┆ f32       ┆   ┆ ---       ┆ f32       ┆         ┆         │\n",
       "│            ┆            ┆            ┆           ┆   ┆ f32       ┆           ┆         ┆         │\n",
       "╞════════════╪════════════╪════════════╪═══════════╪═══╪═══════════╪═══════════╪═════════╪═════════╡\n",
       "│ -112.05288 ┆ -176.78366 ┆ -131.17788 ┆ -176.7836 ┆ … ┆ 2.734654  ┆ 11.618459 ┆ 3       ┆ 0       │\n",
       "│ 7          ┆ 1          ┆ 7          ┆ 61        ┆   ┆           ┆           ┆         ┆         │\n",
       "│ -119.31131 ┆ -179.87179 ┆ -128.82693 ┆ -179.8717 ┆ … ┆ 2.734654  ┆ 11.618459 ┆ 3       ┆ 0       │\n",
       "│            ┆ 6          ┆ 5          ┆ 96        ┆   ┆           ┆           ┆         ┆         │\n",
       "│ -112.48156 ┆ -182.03526 ┆ -112.48156 ┆ -182.0352 ┆ … ┆ 12.832644 ┆ 23.849894 ┆ 3       ┆ 0       │\n",
       "│ 7          ┆ 3          ┆ 7          ┆ 63        ┆   ┆           ┆           ┆         ┆         │\n",
       "│ -127.59536 ┆ -174.07090 ┆ -127.59536 ┆ -174.0709 ┆ … ┆ 104.06587 ┆ 29.745972 ┆ 3       ┆ 0       │\n",
       "│ 7          ┆ 8          ┆ 7          ┆ 08        ┆   ┆ 2         ┆           ┆         ┆         │\n",
       "│ -134.21475 ┆ -162.34616 ┆ -134.21475 ┆ -137.2211 ┆ … ┆ 66.919067 ┆ 17.130297 ┆ 3       ┆ 0       │\n",
       "│ 2          ┆ 1          ┆ 2          ┆ 61        ┆   ┆           ┆           ┆         ┆         │\n",
       "│ …          ┆ …          ┆ …          ┆ …         ┆ … ┆ …         ┆ …         ┆ …       ┆ …       │\n",
       "│ -123.93792 ┆ 54.791656  ┆ -99.234802 ┆ 54.791656 ┆ … ┆ 18.542019 ┆ 18.298178 ┆ 3       ┆ 3600    │\n",
       "│ 7          ┆            ┆            ┆           ┆   ┆           ┆           ┆         ┆         │\n",
       "│ -127.85699 ┆ 63.729156  ┆ -111.26324 ┆ 63.729156 ┆ … ┆ 10.484386 ┆ 19.090586 ┆ -1      ┆ -1      │\n",
       "│ 5          ┆            ┆ 5          ┆           ┆   ┆           ┆           ┆         ┆         │\n",
       "│ -139.84375 ┆ 58.304077  ┆ -114.67187 ┆ 58.304077 ┆ … ┆ 13.250316 ┆ 6.925564  ┆ -1      ┆ -1      │\n",
       "│            ┆            ┆ 5          ┆           ┆   ┆           ┆           ┆         ┆         │\n",
       "│ -145.06170 ┆ 61.645844  ┆ -119.84295 ┆ 61.645844 ┆ … ┆ 5.832888  ┆ 2.631897  ┆ -1      ┆ -1      │\n",
       "│ 7          ┆            ┆ 7          ┆           ┆   ┆           ┆           ┆         ┆         │\n",
       "│ -148.75402 ┆ 54.014435  ┆ -123.67590 ┆ 62.37381  ┆ … ┆ 1.858291  ┆ 11.794283 ┆ -1      ┆ -1      │\n",
       "│ 8          ┆            ┆ 3          ┆           ┆   ┆           ┆           ┆         ┆         │\n",
       "└────────────┴────────────┴────────────┴───────────┴───┴───────────┴───────────┴─────────┴─────────┘"
      ]
     },
     "execution_count": 7,
     "metadata": {},
     "output_type": "execute_result"
    }
   ],
   "source": [
    "project.video_data[0][\"clustering_output\"]"
   ]
  }
 ],
 "metadata": {
  "kernelspec": {
   "display_name": "base",
   "language": "python",
   "name": "python3"
  },
  "language_info": {
   "codemirror_mode": {
    "name": "ipython",
    "version": 3
   },
   "file_extension": ".py",
   "mimetype": "text/x-python",
   "name": "python",
   "nbconvert_exporter": "python",
   "pygments_lexer": "ipython3",
   "version": "3.12.10"
  }
 },
 "nbformat": 4,
 "nbformat_minor": 5
}
