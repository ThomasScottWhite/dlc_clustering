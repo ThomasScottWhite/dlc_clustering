{
 "cells": [
  {
   "cell_type": "code",
   "execution_count": 1,
   "id": "7907fbea",
   "metadata": {},
   "outputs": [],
   "source": [
    "from dlc_clustering.projects import Project\n",
    "from dlc_clustering.clustering import PCAKMeansBoutStrategy\n",
    "from dlc_clustering.data_processing import CentroidDiffStrategy, VelocityStrategy, VelocityFilterStrategy\n",
    "import matplotlib.pyplot as plt\n",
    "import polars as pl\n",
    "from dlc_clustering.graphing import graph_all\n",
    "from dlc_clustering.video_processing import render_cluster_videos"
   ]
  },
  {
   "cell_type": "code",
   "execution_count": 2,
   "id": "0c0040f3",
   "metadata": {},
   "outputs": [],
   "source": [
    "data_processing_strategies = []\n",
    "data_processing_strategies.append(CentroidDiffStrategy())\n",
    "data_processing_strategies.append(VelocityStrategy())\n",
    "data_processing_strategies.append(VelocityFilterStrategy(percentile_threshold=0.75))\n",
    "\n",
    "clustering_strategy=PCAKMeansBoutStrategy(stride=5)\n"
   ]
  },
  {
   "cell_type": "code",
   "execution_count": 3,
   "id": "6fd8d590",
   "metadata": {},
   "outputs": [
    {
     "name": "stderr",
     "output_type": "stream",
     "text": [
      "Processing video frames: 100%|██████████| 18019/18019 [01:15<00:00, 239.03it/s]\n"
     ]
    },
    {
     "name": "stdout",
     "output_type": "stream",
     "text": [
      "Videos written to:\n",
      "  Cluster 0: output/example_project/videos/1-1_M1R_3d_camA/1-1_M1R_3d_camA.avi/cluster_0.mp4\n",
      "  Cluster 1: output/example_project/videos/1-1_M1R_3d_camA/1-1_M1R_3d_camA.avi/cluster_1.mp4\n",
      "  Cluster 2: output/example_project/videos/1-1_M1R_3d_camA/1-1_M1R_3d_camA.avi/cluster_2.mp4\n",
      "  Cluster 3: output/example_project/videos/1-1_M1R_3d_camA/1-1_M1R_3d_camA.avi/cluster_3.mp4\n",
      "  Cluster 4: output/example_project/videos/1-1_M1R_3d_camA/1-1_M1R_3d_camA.avi/cluster_4.mp4\n",
      "  All clusters: output/example_project/videos/1-1_M1R_3d_camA/1-1_M1R_3d_camA.avi/all_clusters.mp4\n"
     ]
    },
    {
     "name": "stderr",
     "output_type": "stream",
     "text": [
      "Processing video frames: 100%|██████████| 18019/18019 [01:15<00:00, 238.92it/s]\n"
     ]
    },
    {
     "name": "stdout",
     "output_type": "stream",
     "text": [
      "Videos written to:\n",
      "  Cluster 0: output/example_project/videos/1-1_M1R_3d_camB/1-1_M1R_3d_camB.avi/cluster_0.mp4\n",
      "  Cluster 1: output/example_project/videos/1-1_M1R_3d_camB/1-1_M1R_3d_camB.avi/cluster_1.mp4\n",
      "  Cluster 2: output/example_project/videos/1-1_M1R_3d_camB/1-1_M1R_3d_camB.avi/cluster_2.mp4\n",
      "  Cluster 3: output/example_project/videos/1-1_M1R_3d_camB/1-1_M1R_3d_camB.avi/cluster_3.mp4\n",
      "  Cluster 4: output/example_project/videos/1-1_M1R_3d_camB/1-1_M1R_3d_camB.avi/cluster_4.mp4\n",
      "  All clusters: output/example_project/videos/1-1_M1R_3d_camB/1-1_M1R_3d_camB.avi/all_clusters.mp4\n"
     ]
    }
   ],
   "source": [
    "project_path = \"/home/thomas/Documents/dlc_clustering/data/example_project\"\n",
    "# The files in the project directory should be in the format:\n",
    "#example_project\n",
    "#├── dlc_data\n",
    "#│   └── video1.h5\n",
    "#└── videos\n",
    "#    └── video1.avi\n",
    "\n",
    "output_path = f\"./output/example_project\"\n",
    "project = Project(\"Example Project\", project_path, data_processing_strategies, clustering_strategy, output_path=output_path)\n",
    "project.process_data()\n",
    "project.cluster_data()\n",
    "graph_all(project)\n",
    "render_cluster_videos(project)"
   ]
  }
 ],
 "metadata": {
  "kernelspec": {
   "display_name": "base",
   "language": "python",
   "name": "python3"
  },
  "language_info": {
   "codemirror_mode": {
    "name": "ipython",
    "version": 3
   },
   "file_extension": ".py",
   "mimetype": "text/x-python",
   "name": "python",
   "nbconvert_exporter": "python",
   "pygments_lexer": "ipython3",
   "version": "3.12.10"
  }
 },
 "nbformat": 4,
 "nbformat_minor": 5
}
