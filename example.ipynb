{
 "cells": [
  {
   "cell_type": "code",
   "execution_count": null,
   "id": "7907fbea",
   "metadata": {},
   "outputs": [],
   "source": [
    "from dlc_clustering.projects import Project\n",
    "from dlc_clustering.clustering import PCAKMeansBoutStrategy\n",
    "from dlc_clustering.data_processing import CentroidDiffStrategy, VelocityStrategy, VelocityFilterStrategy\n",
    "import matplotlib.pyplot as plt\n",
    "import polars as pl\n",
    "from dlc_clustering.graphing import graph_all\n",
    "from dlc_clustering.video_processing import render_cluster_videos"
   ]
  },
  {
   "cell_type": "code",
   "execution_count": null,
   "id": "0c0040f3",
   "metadata": {},
   "outputs": [],
   "source": [
    "data_processing_strategies = []\n",
    "data_processing_strategies.append(CentroidDiffStrategy())\n",
    "data_processing_strategies.append(VelocityStrategy())\n",
    "data_processing_strategies.append(VelocityFilterStrategy(percentile_threshold=0.75))\n",
    "\n",
    "clustering_strategy=PCAKMeansBoutStrategy(stride=5)\n"
   ]
  },
  {
   "cell_type": "code",
   "execution_count": null,
   "id": "6fd8d590",
   "metadata": {},
   "outputs": [],
   "source": [
    "project_path = \"/home/thomas/Documents/dlc_clustering/data/example_project\"\n",
    "# The files in the project directory should be in the format:\n",
    "#example_project\n",
    "#├── dlc_data\n",
    "#│   └── video1.h5\n",
    "#└── videos\n",
    "#    └── video1.avi\n",
    "\n",
    "output_path = f\"./output/example_project\"\n",
    "project = Project(\"Example Project\", project_path, data_processing_strategies, clustering_strategy, output_path=output_path)\n",
    "project.process_data()\n",
    "project.cluster_data()\n",
    "graph_all(project)\n",
    "render_cluster_videos(project)"
   ]
  }
 ],
 "metadata": {
  "kernelspec": {
   "display_name": "base",
   "language": "python",
   "name": "python3"
  },
  "language_info": {
   "codemirror_mode": {
    "name": "ipython",
    "version": 3
   },
   "file_extension": ".py",
   "mimetype": "text/x-python",
   "name": "python",
   "nbconvert_exporter": "python",
   "pygments_lexer": "ipython3",
   "version": "3.12.10"
  }
 },
 "nbformat": 4,
 "nbformat_minor": 5
}
